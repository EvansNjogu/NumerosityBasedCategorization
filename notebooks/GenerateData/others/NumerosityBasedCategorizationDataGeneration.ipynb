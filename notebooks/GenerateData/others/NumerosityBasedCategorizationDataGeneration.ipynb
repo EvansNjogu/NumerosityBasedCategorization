{
  "nbformat": 4,
  "nbformat_minor": 0,
  "metadata": {
    "colab": {
      "provenance": [],
      "machine_shape": "hm",
      "gpuType": "L4"
    },
    "kernelspec": {
      "name": "python3",
      "display_name": "Python 3"
    },
    "language_info": {
      "name": "python"
    },
    "accelerator": "GPU"
  },
  "cells": [
    {
      "cell_type": "markdown",
      "source": [
        "# Dataset Generation Notebook: Synthetic Dot Patterns\n",
        "\n",
        "**Objective:**  \n",
        "Generate a synthetic dataset of dot patterns for numerosity-based categorization. The dataset will be split into training, validation and test sets, then saved to disk.  \n",
        "\n",
        "**Reproducibility:**  \n",
        "A fixed random seed is set for Python's random, NumPy and PyTorch to ensure that every run produces identical results.\n"
      ],
      "metadata": {
        "id": "FxcUVUx6QXUy"
      }
    },
    {
      "cell_type": "markdown",
      "source": [
        "# Environment Setup"
      ],
      "metadata": {
        "id": "aIFXLvad0pT8"
      }
    },
    {
      "cell_type": "code",
      "execution_count": 1,
      "metadata": {
        "id": "BxEspBD30iLz"
      },
      "outputs": [],
      "source": [
        "!pip install torch torchvision numpy opencv-python matplotlib -q\n",
        "\n",
        "import torch\n",
        "import numpy as np\n",
        "import random"
      ]
    },
    {
      "cell_type": "code",
      "source": [
        "def set_seed(seed=42):\n",
        "    random.seed(seed)\n",
        "    np.random.seed(seed)\n",
        "    torch.manual_seed(seed)\n",
        "    if torch.cuda.is_available():\n",
        "        torch.cuda.manual_seed_all(seed)\n",
        "    # Ensure deterministic behavior for CUDA operations\n",
        "    torch.backends.cudnn.deterministic = True\n",
        "    torch.backends.cudnn.benchmark = False\n",
        "\n",
        "set_seed(42)\n",
        "print(\"Random seed set to 42 for reproducibility.\")"
      ],
      "metadata": {
        "colab": {
          "base_uri": "https://localhost:8080/"
        },
        "id": "vvPGZlTvSA75",
        "outputId": "4935ed54-6505-4cb4-b049-1046a46df3dd"
      },
      "execution_count": 2,
      "outputs": [
        {
          "output_type": "stream",
          "name": "stdout",
          "text": [
            "Random seed set to 42 for reproducibility.\n"
          ]
        }
      ]
    },
    {
      "cell_type": "markdown",
      "source": [
        "# Define the Dataset Class"
      ],
      "metadata": {
        "id": "ozuw41dBbzs-"
      }
    },
    {
      "cell_type": "code",
      "source": [
        "import cv2\n",
        "import matplotlib.pyplot as plt\n",
        "from torch.utils.data import Dataset, random_split"
      ],
      "metadata": {
        "id": "6wV_vKKgSGkK"
      },
      "execution_count": 3,
      "outputs": []
    },
    {
      "cell_type": "code",
      "source": [
        "label_names = {0: \"Few\", 1: \"Medium\", 2: \"Many\"}"
      ],
      "metadata": {
        "id": "k9vIj8SBVWPs"
      },
      "execution_count": 4,
      "outputs": []
    },
    {
      "cell_type": "code",
      "source": [
        "class DotPatternDataset(Dataset):\n",
        "    def __init__(self, num_samples=5000, image_size=128, categories=(5, 15)):\n",
        "        \"\"\"\n",
        "        Args:\n",
        "            num_samples (int): Number of images to generate.\n",
        "            image_size (int): Height and width of the square images.\n",
        "            categories (tuple): Tuple defining thresholds for categorization.\n",
        "                                * First value: Maximum dot count for \"Few\".\n",
        "                                * Second value: Maximum dot count for \"Medium\".\n",
        "                                Dot counts above the second value are categorized as \"Many\".\n",
        "        \"\"\"\n",
        "        self.num_samples = num_samples\n",
        "        self.image_size = image_size\n",
        "        self.categories = categories\n",
        "        self.data, self.labels = self.generate_dataset()\n",
        "\n",
        "    def generate_dataset(self):\n",
        "        data = []\n",
        "        labels = []\n",
        "        for _ in range(self.num_samples):\n",
        "            img, label = self.generate_image()\n",
        "            data.append(img)\n",
        "            labels.append(label)\n",
        "        # Stack images into a tensor and convert labels to tensor.\n",
        "        return torch.stack(data), torch.tensor(labels, dtype=torch.long)\n",
        "\n",
        "    def generate_image(self):\n",
        "        # Create a blank grayscale image.\n",
        "        img = np.zeros((self.image_size, self.image_size), dtype=np.float32)\n",
        "        # Randomly decide the number of dots (1 to 30).\n",
        "        num_dots = random.randint(1, 30)\n",
        "        # Draw each dot with random position and size.\n",
        "        for _ in range(num_dots):\n",
        "            x = random.randint(5, self.image_size - 5)\n",
        "            y = random.randint(5, self.image_size - 5)\n",
        "            size = random.randint(3, 12)\n",
        "            img = cv2.circle(img, (x, y), size, (255,), -1)\n",
        "        # Convert image to tensor, add a channel dimension, and normalize to [0,1].\n",
        "        img = torch.tensor(img).unsqueeze(0) / 255.0\n",
        "        # Categorize based on dot count.\n",
        "        label = self.categorize(num_dots)\n",
        "        return img, label\n",
        "\n",
        "    def categorize(self, num_dots):\n",
        "        if num_dots <= self.categories[0]:\n",
        "            return 0  # Few\n",
        "        elif num_dots <= self.categories[1]:\n",
        "            return 1  # Medium\n",
        "        else:\n",
        "            return 2  # Many\n",
        "\n",
        "    def __len__(self):\n",
        "        return len(self.data)\n",
        "\n",
        "    def __getitem__(self, idx):\n",
        "        return self.data[idx], self.labels[idx]"
      ],
      "metadata": {
        "id": "4pAfEMiYbzDm"
      },
      "execution_count": 5,
      "outputs": []
    },
    {
      "cell_type": "markdown",
      "source": [
        "# Split Dataset into Training & Testing Sets"
      ],
      "metadata": {
        "id": "t2ZHbn3oJ5Di"
      }
    },
    {
      "cell_type": "code",
      "source": [
        "dataset = DotPatternDataset(num_samples=5000, image_size=128)"
      ],
      "metadata": {
        "id": "VLQrIveTWDyj"
      },
      "execution_count": 6,
      "outputs": []
    },
    {
      "cell_type": "code",
      "source": [
        "total_samples = len(dataset)\n",
        "train_size = int(0.7 * total_samples)\n",
        "val_size = int(0.15 * total_samples)\n",
        "test_size = total_samples - train_size - val_size\n",
        "\n",
        "train_dataset, val_dataset, test_dataset = random_split(dataset, [train_size, val_size, test_size])\n",
        "\n",
        "print(f\"Total Samples: {total_samples}\")\n",
        "print(f\"Train Samples: {len(train_dataset)}\")\n",
        "print(f\"Validation Samples: {len(val_dataset)}\")\n",
        "print(f\"Test Samples: {len(test_dataset)}\")"
      ],
      "metadata": {
        "colab": {
          "base_uri": "https://localhost:8080/"
        },
        "id": "c0E4DJreJ8YC",
        "outputId": "f0e9da80-7994-4e8c-83bd-54d64db01e08"
      },
      "execution_count": 7,
      "outputs": [
        {
          "output_type": "stream",
          "name": "stdout",
          "text": [
            "Total Samples: 5000\n",
            "Train Samples: 3500\n",
            "Validation Samples: 750\n",
            "Test Samples: 750\n"
          ]
        }
      ]
    },
    {
      "cell_type": "markdown",
      "source": [
        "# Save the Datasets for Reproducibilty"
      ],
      "metadata": {
        "id": "1aipB3tt2Ilk"
      }
    },
    {
      "cell_type": "code",
      "source": [
        "torch.save(train_dataset, \"train_dataset.pt\")\n",
        "torch.save(val_dataset, \"val_dataset.pt\")\n",
        "torch.save(test_dataset, \"test_dataset.pt\")\n",
        "\n",
        "print(\"Datasets saved to disk as 'train_dataset.pt', 'val_dataset.pt', and 'test_dataset.pt'.\")"
      ],
      "metadata": {
        "id": "STu4yOhV1fF2",
        "colab": {
          "base_uri": "https://localhost:8080/"
        },
        "outputId": "1c3d312a-83a2-4a0e-ee74-21f02398a38c"
      },
      "execution_count": 8,
      "outputs": [
        {
          "output_type": "stream",
          "name": "stdout",
          "text": [
            "Datasets saved to disk as 'train_dataset.pt', 'val_dataset.pt', and 'test_dataset.pt'.\n"
          ]
        }
      ]
    },
    {
      "cell_type": "markdown",
      "source": [
        "# Visualize Sample Images"
      ],
      "metadata": {
        "id": "Z4KcWjmDV5IA"
      }
    },
    {
      "cell_type": "code",
      "source": [
        "plt.figure(figsize=(12, 4))\n",
        "for i in range(5):\n",
        "    img, label = dataset[i]\n",
        "    plt.subplot(1, 5, i + 1)\n",
        "    plt.imshow(img.squeeze(), cmap='gray')\n",
        "    # Use the label_names dictionary for descriptive names.\n",
        "    plt.title(f'{label_names[label.item()]}')\n",
        "    plt.axis('off')\n",
        "plt.show()"
      ],
      "metadata": {
        "colab": {
          "base_uri": "https://localhost:8080/",
          "height": 219
        },
        "id": "ZbHdy63ZV6ZS",
        "outputId": "77c29e56-cbfc-4c2d-9841-ec0bbc3f8100"
      },
      "execution_count": 9,
      "outputs": [
        {
          "output_type": "display_data",
          "data": {
            "text/plain": [
              "<Figure size 1200x400 with 5 Axes>"
            ],
            "image/png": "[encoded data removed]"
          },
          "metadata": {}
        }
      ]
    }
  ]
}