{
  "nbformat": 4,
  "nbformat_minor": 0,
  "metadata": {
    "colab": {
      "provenance": []
    },
    "kernelspec": {
      "name": "python3",
      "display_name": "Python 3"
    },
    "language_info": {
      "name": "python"
    }
  },
  "cells": [
    {
      "cell_type": "markdown",
      "source": [
        "# COCO Silhouette Dataset Generation Notebook\n",
        "\n",
        "**Objective:**  \n",
        "Extract objects (cat, bicycle, backpack, apple) from the COCO dataset using segmentation masks, convert them into silhouettes & composite them onto a blank background to generate a mixed dataset.\n",
        "\n",
        "**Steps:**\n",
        "1. Load COCO annotations and images.\n",
        "2. Filter for the desired object classes.\n",
        "3. For each selected image, extract segmentation masks and create silhouette cutouts.\n",
        "4. Composite a random number of silhouettes onto a blank background.\n",
        "5. Label the composite image based on the total number of objects.\n",
        "\n",
        "**Reproducibility:**  \n",
        "A fixed random seed is set to ensure consistent dataset generation."
      ],
      "metadata": {
        "id": "P7Frk4e4tAEh"
      }
    },
    {
      "cell_type": "markdown",
      "source": [
        "# Download COCO"
      ],
      "metadata": {
        "id": "TyMby4kWwH5B"
      }
    },
    {
      "cell_type": "code",
      "source": [
        "!pip install pycocotools -q"
      ],
      "metadata": {
        "id": "dA1wFvh4wMMh"
      },
      "execution_count": null,
      "outputs": []
    },
    {
      "cell_type": "code",
      "source": [
        "!mkdir -p coco/images/train2017 coco/annotations"
      ],
      "metadata": {
        "id": "mg-JGaw8wOCg"
      },
      "execution_count": null,
      "outputs": []
    },
    {
      "cell_type": "code",
      "source": [
        "!wget -q http://images.cocodataset.org/zips/train2017.zip -P coco/images\n",
        "!unzip -q coco/images/train2017.zip -d coco/images/"
      ],
      "metadata": {
        "id": "xQ5G3FS9wP7I"
      },
      "execution_count": null,
      "outputs": []
    },
    {
      "cell_type": "code",
      "source": [
        "!wget -q http://images.cocodataset.org/annotations/annotations_trainval2017.zip -P coco/annotations\n",
        "!unzip -q coco/annotations/annotations_trainval2017.zip -d coco/annotations/"
      ],
      "metadata": {
        "id": "y2PBkOCQwRqi"
      },
      "execution_count": null,
      "outputs": []
    },
    {
      "cell_type": "markdown",
      "source": [
        "# Environment Setup & installation of packages"
      ],
      "metadata": {
        "id": "cn4zn2ODtW5a"
      }
    },
    {
      "cell_type": "code",
      "source": [
        "import os\n",
        "import random\n",
        "import shutil\n",
        "import torch\n",
        "import numpy as np\n",
        "import cv2\n",
        "from pycocotools.coco import COCO\n",
        "from matplotlib import pyplot as plt\n",
        "from tqdm import tqdm"
      ],
      "metadata": {
        "id": "lKoZ2HV0tU06"
      },
      "execution_count": null,
      "outputs": []
    },
    {
      "cell_type": "code",
      "source": [
        "COCO_PATH = \"/coco\"\n",
        "ANNOTATION_FILE = os.path.join(COCO_PATH, \"/content/coco/annotations/annotations/instances_train2017.json\")\n",
        "IMAGE_FOLDER = os.path.join(COCO_PATH, \"train2017\")\n",
        "OUTPUT_FOLDER = \"./silhouette_dataset\"\n",
        "TARGET_CLASSES = [\"cat\", \"bicycle\", \"backpack\", \"apple\"]\n",
        "MAX_PER_CLASS = 500  # Number of silhouettes per category\n",
        "IMAGE_SIZE = 128"
      ],
      "metadata": {
        "id": "dPHhyo2otd4l"
      },
      "execution_count": null,
      "outputs": []
    },
    {
      "cell_type": "markdown",
      "source": [
        "# Setup & Category Mapping"
      ],
      "metadata": {
        "id": "UgevkwmLtgd5"
      }
    },
    {
      "cell_type": "code",
      "source": [
        "coco = COCO(ANNOTATION_FILE)\n",
        "cat_ids = coco.getCatIds(catNms=TARGET_CLASSES)\n",
        "cat_map = {cat_id: coco.loadCats(cat_id)[0]['name'] for cat_id in cat_ids}"
      ],
      "metadata": {
        "colab": {
          "base_uri": "https://localhost:8080/"
        },
        "id": "HAvRX18ntjuw",
        "outputId": "3060073f-ef8e-4081-efa8-d128f5b3f7ff"
      },
      "execution_count": null,
      "outputs": [
        {
          "output_type": "stream",
          "name": "stdout",
          "text": [
            "loading annotations into memory...\n",
            "Done (t=28.41s)\n",
            "creating index...\n",
            "index created!\n"
          ]
        }
      ]
    },
    {
      "cell_type": "code",
      "source": [
        "target_classes = [\"cat\", \"apple\", \"bicycle\", \"backpack\"]\n",
        "cat_map = {cat['id']: cat['name'] for cat in coco.loadCats(coco.getCatIds())}\n",
        "cat_ids = coco.getCatIds(catNms=target_classes)"
      ],
      "metadata": {
        "id": "pKcKWdXH2hc-"
      },
      "execution_count": null,
      "outputs": []
    },
    {
      "cell_type": "code",
      "source": [
        "for cid in cat_ids:\n",
        "    anns = coco.loadAnns(coco.getAnnIds(catIds=[cid]))\n",
        "    print(f\"{cat_map[cid]}: {len(anns)} annotations\")\n"
      ],
      "metadata": {
        "colab": {
          "base_uri": "https://localhost:8080/"
        },
        "id": "VagwzIYt2jY4",
        "outputId": "43e4022b-f388-405a-8a12-2cc876a10a67"
      },
      "execution_count": null,
      "outputs": [
        {
          "output_type": "stream",
          "name": "stdout",
          "text": [
            "bicycle: 7113 annotations\n",
            "cat: 4768 annotations\n",
            "backpack: 8720 annotations\n",
            "apple: 5851 annotations\n"
          ]
        }
      ]
    },
    {
      "cell_type": "markdown",
      "source": [
        "# Silhouette Generator"
      ],
      "metadata": {
        "id": "yB5FV8PR6pLw"
      }
    },
    {
      "cell_type": "code",
      "source": [
        "def generate_silhouette(annotation):\n",
        "    mask = coco.annToMask(annotation)\n",
        "    if mask.sum() == 0:\n",
        "        return None  # skip empty masks\n",
        "    silhouette = (mask * 255).astype(np.uint8)\n",
        "    return silhouette"
      ],
      "metadata": {
        "id": "F_-RZ4-26tJ2"
      },
      "execution_count": null,
      "outputs": []
    },
    {
      "cell_type": "markdown",
      "source": [
        "# Main Extraction Loop"
      ],
      "metadata": {
        "id": "0NVd0aiiuVyW"
      }
    },
    {
      "cell_type": "code",
      "source": [
        "os.makedirs(OUTPUT_FOLDER, exist_ok=True)\n",
        "\n",
        "for cat_id in tqdm(cat_ids, desc=\"Processing Categories\"):\n",
        "    anns = coco.loadAnns(coco.getAnnIds(catIds=[cat_id]))\n",
        "    selected = random.sample(anns, min(MAX_PER_CLASS, len(anns)))\n",
        "\n",
        "    class_name = cat_map[cat_id].replace(\" \", \"_\")\n",
        "    class_folder = os.path.join(OUTPUT_FOLDER, class_name)\n",
        "    os.makedirs(class_folder, exist_ok=True)\n",
        "\n",
        "    for i, ann in enumerate(selected):\n",
        "        img_info = coco.loadImgs(ann['image_id'])[0]\n",
        "        silhouette = generate_silhouette(ann)\n",
        "\n",
        "        if silhouette is not None:\n",
        "            resized = cv2.resize(silhouette, (IMAGE_SIZE, IMAGE_SIZE))\n",
        "            save_path = os.path.join(class_folder, f\"{img_info['id']}_{i}.png\")\n",
        "            cv2.imwrite(save_path, resized)\n",
        "        else:\n",
        "            print(f\"Skipped: ann_id={ann['id']} (empty mask)\")\n",
        "\n",
        "print(\"Silhouette dataset generation complete.\")"
      ],
      "metadata": {
        "colab": {
          "base_uri": "https://localhost:8080/"
        },
        "id": "7_j98CNPuXw5",
        "outputId": "1fbcb400-6523-4a1d-c559-2d450d4aa617"
      },
      "execution_count": null,
      "outputs": [
        {
          "output_type": "stream",
          "name": "stderr",
          "text": [
            "Processing Categories: 100%|██████████| 4/4 [00:03<00:00,  1.07it/s]"
          ]
        },
        {
          "output_type": "stream",
          "name": "stdout",
          "text": [
            "✅ Silhouette dataset generation complete.\n"
          ]
        },
        {
          "output_type": "stream",
          "name": "stderr",
          "text": [
            "\n"
          ]
        }
      ]
    }
  ]
}