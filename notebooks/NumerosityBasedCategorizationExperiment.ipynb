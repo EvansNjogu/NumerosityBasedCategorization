{
  "nbformat": 4,
  "nbformat_minor": 0,
  "metadata": {
    "colab": {
      "provenance": [],
      "machine_shape": "hm",
      "gpuType": "L4"
    },
    "kernelspec": {
      "name": "python3",
      "display_name": "Python 3"
    },
    "language_info": {
      "name": "python"
    },
    "accelerator": "GPU"
  },
  "cells": [
    {
      "cell_type": "markdown",
      "source": [
        "# Environment Setup"
      ],
      "metadata": {
        "id": "aIFXLvad0pT8"
      }
    },
    {
      "cell_type": "code",
      "execution_count": 1,
      "metadata": {
        "id": "BxEspBD30iLz"
      },
      "outputs": [],
      "source": [
        "!pip install torch torchvision matplotlib numpy -q\n",
        "\n",
        "import torch\n",
        "import torch.nn as nn\n",
        "import torch.optim as optim\n",
        "from torchvision import transforms, datasets\n",
        "from torch.utils.data import DataLoader, Dataset\n",
        "import numpy as np\n",
        "import matplotlib.pyplot as plt\n",
        "import random\n",
        "import cv2"
      ]
    },
    {
      "cell_type": "markdown",
      "source": [
        "# *Load model without retraining(upload it to env)"
      ],
      "metadata": {
        "id": "pcfg7JhYafI0"
      }
    },
    {
      "cell_type": "code",
      "source": [
        "# from google.colab import files\n",
        "# import torch\n",
        "\n",
        "# # Upload the saved model\n",
        "# uploaded = files.upload()\n",
        "\n",
        "# # Initialize the model\n",
        "# model = NumerosityCNN()  # Use your existing model class\n",
        "\n",
        "# # Load the state dict\n",
        "# model.load_state_dict(torch.load('numerosity_model.pth'))\n",
        "# model.eval()\n",
        "\n",
        "# print(\"Model reloaded and ready for inference!\")"
      ],
      "metadata": {
        "id": "DVCio-aQai1h"
      },
      "execution_count": 2,
      "outputs": []
    },
    {
      "cell_type": "markdown",
      "source": [
        "# GPU Configs"
      ],
      "metadata": {
        "id": "ozuw41dBbzs-"
      }
    },
    {
      "cell_type": "code",
      "source": [
        "import torch\n",
        "device = torch.device(\"cuda\" if torch.cuda.is_available() else \"cpu\")\n",
        "print(f'Using device: {torch.cuda.get_device_name(0) if torch.cuda.is_available() else \"CPU\"}')"
      ],
      "metadata": {
        "colab": {
          "base_uri": "https://localhost:8080/"
        },
        "id": "4pAfEMiYbzDm",
        "outputId": "f0c8ca64-981e-4792-974c-8cf77ac03491"
      },
      "execution_count": 3,
      "outputs": [
        {
          "output_type": "stream",
          "name": "stdout",
          "text": [
            "Using device: NVIDIA L4\n"
          ]
        }
      ]
    },
    {
      "cell_type": "markdown",
      "source": [
        "# Synthetic Dot Patter Generation"
      ],
      "metadata": {
        "id": "SWgOQSPW1QiS"
      }
    },
    {
      "cell_type": "code",
      "source": [
        "class DotPatternDataset(Dataset):\n",
        "    def __init__(self, num_samples=5000, image_size=128, categories=(5, 15)):\n",
        "        self.num_samples = num_samples\n",
        "        self.image_size = image_size\n",
        "        self.categories = categories\n",
        "        self.data, self.labels = self.generate_dataset()\n",
        "\n",
        "    def generate_dataset(self):\n",
        "        data = []\n",
        "        labels = []\n",
        "        for _ in range(self.num_samples):\n",
        "            img, label = self.generate_image()\n",
        "            data.append(img)\n",
        "            labels.append(label)\n",
        "        return torch.stack(data), torch.tensor(labels, dtype=torch.long)\n",
        "\n",
        "    def generate_image(self):\n",
        "        img = np.zeros((self.image_size, self.image_size), dtype=np.float32)\n",
        "        num_dots = random.randint(1, 30)\n",
        "        for _ in range(num_dots):\n",
        "            x = random.randint(5, self.image_size - 5)\n",
        "            y = random.randint(5, self.image_size - 5)\n",
        "            size = random.randint(3, 12)\n",
        "            img = cv2.circle(img, (x, y), size, (255,), -1)\n",
        "        img = torch.tensor(img).unsqueeze(0) / 255.0  # Normalize to [0,1]\n",
        "        label = self.categorize(num_dots)\n",
        "        return img, label\n",
        "\n",
        "    def categorize(self, num_dots):\n",
        "        if num_dots <= self.categories[0]:\n",
        "            return 0  # Few\n",
        "        elif num_dots <= self.categories[1]:\n",
        "            return 1  # Medium\n",
        "        else:\n",
        "            return 2  # Many\n",
        "\n",
        "    def __len__(self):\n",
        "        return len(self.data)\n",
        "\n",
        "    def __getitem__(self, idx):\n",
        "        return self.data[idx], self.labels[idx]\n",
        "\n",
        "# Visualize Sample Images\n",
        "dataset = DotPatternDataset()\n",
        "plt.figure(figsize=(10, 5))\n",
        "for i in range(5):\n",
        "    img, label = dataset[i]\n",
        "    plt.subplot(1, 5, i+1)\n",
        "    plt.imshow(img.squeeze(), cmap='gray')\n",
        "    plt.title(f'Label: {label}')\n",
        "    plt.axis('off')\n",
        "plt.show()"
      ],
      "metadata": {
        "colab": {
          "base_uri": "https://localhost:8080/",
          "height": 192
        },
        "id": "07HzGj3U013o",
        "outputId": "9e5584f9-cb4b-4fa1-992b-4a7c92824361"
      },
      "execution_count": 4,
      "outputs": [
        {
          "output_type": "display_data",
          "data": {
            "text/plain": [
              "<Figure size 1000x500 with 5 Axes>"
            ],
            "image/png": "[encoded data removed]"
          },
          "metadata": {}
        }
      ]
    },
    {
      "cell_type": "markdown",
      "source": [
        "# Data Loaders for Training & Testing"
      ],
      "metadata": {
        "id": "1aipB3tt2Ilk"
      }
    },
    {
      "cell_type": "code",
      "source": [
        "train_size = int(0.8 * len(dataset))\n",
        "test_size = len(dataset) - train_size\n",
        "train_dataset, test_dataset = torch.utils.data.random_split(dataset, [train_size, test_size])\n",
        "\n",
        "train_loader = DataLoader(train_dataset, batch_size=32, shuffle=True)\n",
        "test_loader = DataLoader(test_dataset, batch_size=32, shuffle=False)"
      ],
      "metadata": {
        "id": "STu4yOhV1fF2"
      },
      "execution_count": 5,
      "outputs": []
    },
    {
      "cell_type": "markdown",
      "source": [
        "# Define CNN Model"
      ],
      "metadata": {
        "id": "7z4zkslN2S4O"
      }
    },
    {
      "cell_type": "code",
      "source": [
        "class ResidualBlock(nn.Module):\n",
        "    def __init__(self, in_channels, out_channels, stride=1):\n",
        "        super(ResidualBlock, self).__init__()\n",
        "        self.conv1 = nn.Conv2d(in_channels, out_channels, kernel_size=3, stride=stride, padding=1)\n",
        "        self.bn1 = nn.BatchNorm2d(out_channels)\n",
        "        self.relu = nn.ReLU(inplace=True)\n",
        "        self.conv2 = nn.Conv2d(out_channels, out_channels, kernel_size=3, padding=1)\n",
        "        self.bn2 = nn.BatchNorm2d(out_channels)\n",
        "\n",
        "        self.shortcut = nn.Sequential()\n",
        "        if stride != 1 or in_channels != out_channels:\n",
        "            self.shortcut = nn.Sequential(\n",
        "                nn.Conv2d(in_channels, out_channels, kernel_size=1, stride=stride),\n",
        "                nn.BatchNorm2d(out_channels)\n",
        "            )\n",
        "\n",
        "    def forward(self, x):\n",
        "        out = self.relu(self.bn1(self.conv1(x)))\n",
        "        out = self.bn2(self.conv2(out))\n",
        "        out += self.shortcut(x)\n",
        "        return self.relu(out)\n",
        "\n",
        "class NumerosityCNN(nn.Module):\n",
        "    def __init__(self):\n",
        "        super(NumerosityCNN, self).__init__()\n",
        "        self.layer1 = nn.Sequential(\n",
        "            ResidualBlock(1, 32),\n",
        "            nn.MaxPool2d(2)\n",
        "        )\n",
        "        self.layer2 = nn.Sequential(\n",
        "            ResidualBlock(32, 64),\n",
        "            nn.MaxPool2d(2)\n",
        "        )\n",
        "        self.layer3 = nn.Sequential(\n",
        "            ResidualBlock(64, 128),\n",
        "            nn.MaxPool2d(2)\n",
        "        )\n",
        "        self.fc1 = nn.Linear(128 * 16 * 16, 128)\n",
        "        self.fc2 = nn.Linear(128, 3)  # Few, Medium, Many\n",
        "\n",
        "    def forward(self, x):\n",
        "        out = self.layer1(x)\n",
        "        out = self.layer2(out)\n",
        "        out = self.layer3(out)\n",
        "        out = out.view(out.size(0), -1)\n",
        "        out = torch.relu(self.fc1(out))\n",
        "        return self.fc2(out)\n",
        "\n",
        "model = NumerosityCNN()"
      ],
      "metadata": {
        "id": "djyM3jLY2Ra0"
      },
      "execution_count": 6,
      "outputs": []
    },
    {
      "cell_type": "code",
      "source": [
        "model.to(device)"
      ],
      "metadata": {
        "colab": {
          "base_uri": "https://localhost:8080/"
        },
        "id": "t1tJfiA2dfCF",
        "outputId": "b365183e-f202-45b4-e7df-5d0bd34d094a"
      },
      "execution_count": 7,
      "outputs": [
        {
          "output_type": "execute_result",
          "data": {
            "text/plain": [
              "NumerosityCNN(\n",
              "  (layer1): Sequential(\n",
              "    (0): ResidualBlock(\n",
              "      (conv1): Conv2d(1, 32, kernel_size=(3, 3), stride=(1, 1), padding=(1, 1))\n",
              "      (bn1): BatchNorm2d(32, eps=1e-05, momentum=0.1, affine=True, track_running_stats=True)\n",
              "      (relu): ReLU(inplace=True)\n",
              "      (conv2): Conv2d(32, 32, kernel_size=(3, 3), stride=(1, 1), padding=(1, 1))\n",
              "      (bn2): BatchNorm2d(32, eps=1e-05, momentum=0.1, affine=True, track_running_stats=True)\n",
              "      (shortcut): Sequential(\n",
              "        (0): Conv2d(1, 32, kernel_size=(1, 1), stride=(1, 1))\n",
              "        (1): BatchNorm2d(32, eps=1e-05, momentum=0.1, affine=True, track_running_stats=True)\n",
              "      )\n",
              "    )\n",
              "    (1): MaxPool2d(kernel_size=2, stride=2, padding=0, dilation=1, ceil_mode=False)\n",
              "  )\n",
              "  (layer2): Sequential(\n",
              "    (0): ResidualBlock(\n",
              "      (conv1): Conv2d(32, 64, kernel_size=(3, 3), stride=(1, 1), padding=(1, 1))\n",
              "      (bn1): BatchNorm2d(64, eps=1e-05, momentum=0.1, affine=True, track_running_stats=True)\n",
              "      (relu): ReLU(inplace=True)\n",
              "      (conv2): Conv2d(64, 64, kernel_size=(3, 3), stride=(1, 1), padding=(1, 1))\n",
              "      (bn2): BatchNorm2d(64, eps=1e-05, momentum=0.1, affine=True, track_running_stats=True)\n",
              "      (shortcut): Sequential(\n",
              "        (0): Conv2d(32, 64, kernel_size=(1, 1), stride=(1, 1))\n",
              "        (1): BatchNorm2d(64, eps=1e-05, momentum=0.1, affine=True, track_running_stats=True)\n",
              "      )\n",
              "    )\n",
              "    (1): MaxPool2d(kernel_size=2, stride=2, padding=0, dilation=1, ceil_mode=False)\n",
              "  )\n",
              "  (layer3): Sequential(\n",
              "    (0): ResidualBlock(\n",
              "      (conv1): Conv2d(64, 128, kernel_size=(3, 3), stride=(1, 1), padding=(1, 1))\n",
              "      (bn1): BatchNorm2d(128, eps=1e-05, momentum=0.1, affine=True, track_running_stats=True)\n",
              "      (relu): ReLU(inplace=True)\n",
              "      (conv2): Conv2d(128, 128, kernel_size=(3, 3), stride=(1, 1), padding=(1, 1))\n",
              "      (bn2): BatchNorm2d(128, eps=1e-05, momentum=0.1, affine=True, track_running_stats=True)\n",
              "      (shortcut): Sequential(\n",
              "        (0): Conv2d(64, 128, kernel_size=(1, 1), stride=(1, 1))\n",
              "        (1): BatchNorm2d(128, eps=1e-05, momentum=0.1, affine=True, track_running_stats=True)\n",
              "      )\n",
              "    )\n",
              "    (1): MaxPool2d(kernel_size=2, stride=2, padding=0, dilation=1, ceil_mode=False)\n",
              "  )\n",
              "  (fc1): Linear(in_features=32768, out_features=128, bias=True)\n",
              "  (fc2): Linear(in_features=128, out_features=3, bias=True)\n",
              ")"
            ]
          },
          "metadata": {},
          "execution_count": 7
        }
      ]
    },
    {
      "cell_type": "markdown",
      "source": [
        "# Training the Model"
      ],
      "metadata": {
        "id": "_vON6qsa2btp"
      }
    },
    {
      "cell_type": "code",
      "source": [
        "optimizer = optim.Adam(model.parameters(), lr=0.001)\n",
        "criterion = nn.CrossEntropyLoss()\n",
        "\n",
        "def train_model_with_early_stopping(num_epochs=10, patience=3):\n",
        "    model.train()\n",
        "    best_loss = float('inf')\n",
        "    patience_counter = 0\n",
        "\n",
        "    for epoch in range(num_epochs):\n",
        "        total_loss = 0\n",
        "        for i, (images, labels) in enumerate(train_loader):\n",
        "            images, labels = images.to(device), labels.to(device)\n",
        "            outputs = model(images)\n",
        "            loss = criterion(outputs, labels)\n",
        "            optimizer.zero_grad()\n",
        "            loss.backward()\n",
        "            optimizer.step()\n",
        "            total_loss += loss.item()\n",
        "\n",
        "        avg_loss = total_loss / len(train_loader)\n",
        "        print(f\"Epoch [{epoch+1}/{num_epochs}], Loss: {avg_loss:.4f}\")\n",
        "\n",
        "        # Early stopping logic\n",
        "        if avg_loss < best_loss:\n",
        "            best_loss = avg_loss\n",
        "            patience_counter = 0\n",
        "            torch.save(model.state_dict(), 'best_model.pth')\n",
        "        else:\n",
        "            patience_counter += 1\n",
        "\n",
        "        if patience_counter >= patience:\n",
        "            print(\"Early stopping triggered.\")\n",
        "            break\n",
        "\n",
        "train_model_with_early_stopping()"
      ],
      "metadata": {
        "colab": {
          "base_uri": "https://localhost:8080/"
        },
        "id": "xG7vBf_S2ZBp",
        "outputId": "d06b290f-8891-433e-ab34-2b8114477ff7"
      },
      "execution_count": 8,
      "outputs": [
        {
          "output_type": "stream",
          "name": "stdout",
          "text": [
            "Epoch [1/10], Loss: 1.2221\n",
            "Epoch [2/10], Loss: 0.2356\n",
            "Epoch [3/10], Loss: 0.2034\n",
            "Epoch [4/10], Loss: 0.1555\n",
            "Epoch [5/10], Loss: 0.1355\n",
            "Epoch [6/10], Loss: 0.0930\n",
            "Epoch [7/10], Loss: 0.0759\n",
            "Epoch [8/10], Loss: 0.0533\n",
            "Epoch [9/10], Loss: 0.0332\n",
            "Epoch [10/10], Loss: 0.0394\n"
          ]
        }
      ]
    },
    {
      "cell_type": "markdown",
      "source": [
        "# Save model after training"
      ],
      "metadata": {
        "id": "ie4yqODDZ_2r"
      }
    },
    {
      "cell_type": "code",
      "source": [
        "torch.save(model.state_dict(), 'numerosity_model.pth')\n",
        "print(\"Model saved successfully!\")"
      ],
      "metadata": {
        "colab": {
          "base_uri": "https://localhost:8080/"
        },
        "id": "c7hg_gXtZ_Ns",
        "outputId": "98a1dd29-bdf9-477b-fc28-6d59f3972d17"
      },
      "execution_count": 9,
      "outputs": [
        {
          "output_type": "stream",
          "name": "stdout",
          "text": [
            "Model saved successfully!\n"
          ]
        }
      ]
    },
    {
      "cell_type": "markdown",
      "source": [
        "# Model Evaluation"
      ],
      "metadata": {
        "id": "O5F6Hi834OWS"
      }
    },
    {
      "cell_type": "code",
      "source": [
        "model.eval()\n",
        "correct = 0\n",
        "total = 0\n",
        "\n",
        "with torch.no_grad():\n",
        "    for images, labels in test_loader:\n",
        "        images, labels = images.to(device), labels.to(device)\n",
        "        outputs = model(images)\n",
        "        _, predicted = torch.max(outputs, 1)\n",
        "        total += labels.size(0)\n",
        "        correct += (predicted == labels).sum().item()\n",
        "\n",
        "print(f'Accuracy on test data: {100 * correct / total:.2f}%')"
      ],
      "metadata": {
        "colab": {
          "base_uri": "https://localhost:8080/"
        },
        "id": "Jh9YPXkj2gfY",
        "outputId": "07879733-7a1e-440a-9dee-a1070971dfa2"
      },
      "execution_count": 10,
      "outputs": [
        {
          "output_type": "stream",
          "name": "stdout",
          "text": [
            "Accuracy on test data: 91.70%\n"
          ]
        }
      ]
    }
  ]
}