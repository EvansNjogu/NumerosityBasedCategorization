{
  "nbformat": 4,
  "nbformat_minor": 0,
  "metadata": {
    "colab": {
      "provenance": [],
      "machine_shape": "hm",
      "gpuType": "L4"
    },
    "kernelspec": {
      "name": "python3",
      "display_name": "Python 3"
    },
    "language_info": {
      "name": "python"
    },
    "accelerator": "GPU"
  },
  "cells": [
    {
      "cell_type": "markdown",
      "source": [
        "# Model Testing Notebook: Loading Datasets & Pre-Trained Model\n",
        "\n",
        "**Objective:**  \n",
        "Load the pre-generated datasets and the pre-trained NumerosityCNN model, evaluate its performance on the test set, and visualize the results.\n",
        "\n",
        "- Set reproducibility seed and import libraries.\n",
        "- Load the saved datasets.\n",
        "- Load the pre-trained model.\n",
        "- Evaluate the model on the test set (loss, accuracy, confusion matrix, and classification report).\n",
        "- Visualize sample predictions.\n",
        "\n",
        "**Note:**  \n",
        "Make sure that the files **`train_dataset.pt`,** **`val_dataset.pt`**, **`test_dataset.pt`** and **`final_numerosity_model.pt`** are in your working directory.\n",
        "\n"
      ],
      "metadata": {
        "id": "GgFQc9kMacKs"
      }
    },
    {
      "cell_type": "markdown",
      "source": [
        "# Environment Setup and Seed Setting"
      ],
      "metadata": {
        "id": "Ju9jafsD67wq"
      }
    },
    {
      "cell_type": "code",
      "source": [
        "import random\n",
        "import numpy as np\n",
        "import torch\n",
        "\n",
        "def set_seed(seed=42):\n",
        "    random.seed(seed)\n",
        "    np.random.seed(seed)\n",
        "    torch.manual_seed(seed)\n",
        "    if torch.cuda.is_available():\n",
        "        torch.cuda.manual_seed_all(seed)\n",
        "    torch.backends.cudnn.deterministic = True\n",
        "    torch.backends.cudnn.benchmark = False\n",
        "\n",
        "set_seed(42)\n",
        "print(\"Random seed set to 42 for reproducibility.\")"
      ],
      "metadata": {
        "colab": {
          "base_uri": "https://localhost:8080/"
        },
        "id": "_Qnq4xhO7GrX",
        "outputId": "c07aea88-5c92-440e-cfd0-2860fdefff20"
      },
      "execution_count": 1,
      "outputs": [
        {
          "output_type": "stream",
          "name": "stdout",
          "text": [
            "Random seed set to 42 for reproducibility.\n"
          ]
        }
      ]
    },
    {
      "cell_type": "code",
      "source": [
        "import torch.nn as nn\n",
        "import torch.optim as optim\n",
        "from torch.utils.data import DataLoader\n",
        "import matplotlib.pyplot as plt\n",
        "import pandas as pd\n",
        "import cv2\n",
        "from sklearn.metrics import confusion_matrix, classification_report\n",
        "import seaborn as sns"
      ],
      "metadata": {
        "id": "GKE541Mx7UwY"
      },
      "execution_count": 2,
      "outputs": []
    },
    {
      "cell_type": "code",
      "source": [
        "device = torch.device(\"cuda\" if torch.cuda.is_available() else \"cpu\")\n",
        "print(f\"Using device: {torch.cuda.get_device_name(0) if torch.cuda.is_available() else 'CPU'}\")"
      ],
      "metadata": {
        "colab": {
          "base_uri": "https://localhost:8080/"
        },
        "id": "1DHzGwB_7Vij",
        "outputId": "daadfb02-cd2d-4774-ad5d-253e72f1e653"
      },
      "execution_count": 3,
      "outputs": [
        {
          "output_type": "stream",
          "name": "stdout",
          "text": [
            "Using device: NVIDIA L4\n"
          ]
        }
      ]
    },
    {
      "cell_type": "markdown",
      "source": [
        "# Load Saved Datasets"
      ],
      "metadata": {
        "id": "K3_haZBdbCQ9"
      }
    },
    {
      "cell_type": "code",
      "source": [
        "from torch.utils.data import Dataset\n",
        "\n",
        "class DotPatternDataset(Dataset):\n",
        "    def __init__(self, num_samples=5000, image_size=128, categories=(5, 15)):\n",
        "        self.num_samples = num_samples\n",
        "        self.image_size = image_size\n",
        "        self.categories = categories\n",
        "        self.data, self.labels = self.generate_dataset()\n",
        "\n",
        "    def generate_dataset(self):\n",
        "        data = []\n",
        "        labels = []\n",
        "        for _ in range(self.num_samples):\n",
        "            img, label = self.generate_image()\n",
        "            data.append(img)\n",
        "            labels.append(label)\n",
        "        return torch.stack(data), torch.tensor(labels, dtype=torch.long)\n",
        "\n",
        "    def generate_image(self):\n",
        "        img = np.zeros((self.image_size, self.image_size), dtype=np.float32)\n",
        "        num_dots = random.randint(1, 30)\n",
        "        for _ in range(num_dots):\n",
        "            x = random.randint(5, self.image_size - 5)\n",
        "            y = random.randint(5, self.image_size - 5)\n",
        "            size = random.randint(3, 12)\n",
        "            img = cv2.circle(img, (x, y), size, (255,), -1)\n",
        "        img = torch.tensor(img).unsqueeze(0) / 255.0\n",
        "        label = self.categorize(num_dots)\n",
        "        return img, label\n",
        "\n",
        "    def categorize(self, num_dots):\n",
        "        if num_dots <= self.categories[0]:\n",
        "            return 0  # Few\n",
        "        elif num_dots <= self.categories[1]:\n",
        "            return 1  # Medium\n",
        "        else:\n",
        "            return 2  # Many\n",
        "\n",
        "    def __len__(self):\n",
        "        return len(self.data)\n",
        "\n",
        "    def __getitem__(self, idx):\n",
        "        return self.data[idx], self.labels[idx]"
      ],
      "metadata": {
        "id": "_cCSugYVesQ2"
      },
      "execution_count": 4,
      "outputs": []
    },
    {
      "cell_type": "code",
      "source": [
        "import warnings\n",
        "warnings.filterwarnings(\"ignore\", message=\"You are using `torch.load` with `weights_only=False`\")\n",
        "\n",
        "from torch.utils.data.dataset import Subset\n",
        "import torch.serialization\n",
        "\n",
        "torch.serialization.add_safe_globals([Subset])\n",
        "\n",
        "# Load the saved datasets (train, validation, test)\n",
        "train_dataset = torch.load(\"train_dataset.pt\", weights_only=False)\n",
        "val_dataset = torch.load(\"val_dataset.pt\", weights_only=False)\n",
        "test_dataset = torch.load(\"test_dataset.pt\", weights_only=False)\n",
        "\n",
        "print(f\"Train Dataset Size: {len(train_dataset)}\")\n",
        "print(f\"Validation Dataset Size: {len(val_dataset)}\")\n",
        "print(f\"Test Dataset Size: {len(test_dataset)}\")\n",
        "\n",
        "# Create DataLoaders\n",
        "batch_size = 32  # default value; can be tuned later\n",
        "train_loader = DataLoader(train_dataset, batch_size=batch_size, shuffle=True)\n",
        "val_loader = DataLoader(val_dataset, batch_size=batch_size, shuffle=False)\n",
        "test_loader = DataLoader(test_dataset, batch_size=batch_size, shuffle=False)"
      ],
      "metadata": {
        "colab": {
          "base_uri": "https://localhost:8080/"
        },
        "id": "1k23ByHTa0__",
        "outputId": "fdc0416d-6703-48e2-d5b3-2a7210e9fa6f"
      },
      "execution_count": 12,
      "outputs": [
        {
          "output_type": "stream",
          "name": "stdout",
          "text": [
            "Train Dataset Size: 3500\n",
            "Validation Dataset Size: 750\n",
            "Test Dataset Size: 750\n"
          ]
        }
      ]
    },
    {
      "cell_type": "markdown",
      "source": [
        "# Define the Model Architecture"
      ],
      "metadata": {
        "id": "QgP9YmfjbiCy"
      }
    },
    {
      "cell_type": "code",
      "source": [
        "class ResidualBlock(nn.Module):\n",
        "    def __init__(self, in_channels, out_channels, stride=1):\n",
        "        super(ResidualBlock, self).__init__()\n",
        "        self.conv1 = nn.Conv2d(in_channels, out_channels, kernel_size=3, stride=stride, padding=1)\n",
        "        self.bn1 = nn.BatchNorm2d(out_channels)\n",
        "        self.relu = nn.ReLU(inplace=True)\n",
        "        self.conv2 = nn.Conv2d(out_channels, out_channels, kernel_size=3, padding=1)\n",
        "        self.bn2 = nn.BatchNorm2d(out_channels)\n",
        "        self.shortcut = nn.Sequential()\n",
        "        if stride != 1 or in_channels != out_channels:\n",
        "            self.shortcut = nn.Sequential(\n",
        "                nn.Conv2d(in_channels, out_channels, kernel_size=1, stride=stride),\n",
        "                nn.BatchNorm2d(out_channels)\n",
        "            )\n",
        "\n",
        "    def forward(self, x):\n",
        "        out = self.relu(self.bn1(self.conv1(x)))\n",
        "        out = self.bn2(self.conv2(out))\n",
        "        out += self.shortcut(x)\n",
        "        return self.relu(out)\n",
        "\n",
        "class NumerosityCNN(nn.Module):\n",
        "    def __init__(self):\n",
        "        super(NumerosityCNN, self).__init__()\n",
        "        self.layer1 = nn.Sequential(\n",
        "            ResidualBlock(1, 32),\n",
        "            nn.MaxPool2d(2)\n",
        "        )\n",
        "        self.layer2 = nn.Sequential(\n",
        "            ResidualBlock(32, 64),\n",
        "            nn.MaxPool2d(2)\n",
        "        )\n",
        "        self.layer3 = nn.Sequential(\n",
        "            ResidualBlock(64, 128),\n",
        "            nn.MaxPool2d(2)\n",
        "        )\n",
        "        # Input size 128x128 becomes 16x16 after 3 rounds of 2x2 pooling.\n",
        "        self.fc1 = nn.Linear(128 * 16 * 16, 128)\n",
        "        self.dropout = nn.Dropout(p=0.3)\n",
        "        self.fc2 = nn.Linear(128, 3)  # Three classes: Few, Medium, Many\n",
        "\n",
        "    def forward(self, x):\n",
        "        out = self.layer1(x)\n",
        "        out = self.layer2(out)\n",
        "        out = self.layer3(out)\n",
        "        out = out.view(out.size(0), -1)  # Flatten\n",
        "        out = torch.relu(self.fc1(out))\n",
        "        out = self.dropout(out)\n",
        "        return self.fc2(out)"
      ],
      "metadata": {
        "id": "eVDjHDHWbkrq"
      },
      "execution_count": 13,
      "outputs": []
    },
    {
      "cell_type": "markdown",
      "source": [
        "# Load the Pre-Trained Model"
      ],
      "metadata": {
        "id": "nJgKsC208Gyk"
      }
    },
    {
      "cell_type": "markdown",
      "source": [
        "### Load the pre-trained model from the saved checkpoint \"final_numerosity_model.pt\"."
      ],
      "metadata": {
        "id": "Jl2B1qHX8Jiv"
      }
    },
    {
      "cell_type": "code",
      "source": [
        "model = NumerosityCNN().to(device)\n",
        "model.load_state_dict(torch.load(\"final_numerosity_model.pt\", map_location=device))\n",
        "model.eval()\n",
        "print(\"Pre-trained model loaded successfully.\")"
      ],
      "metadata": {
        "id": "sepLrrul8Qpr",
        "colab": {
          "base_uri": "https://localhost:8080/"
        },
        "outputId": "33844292-d0a0-4fb0-b2da-d2fe2e9a401f"
      },
      "execution_count": 14,
      "outputs": [
        {
          "output_type": "stream",
          "name": "stdout",
          "text": [
            "Pre-trained model loaded successfully.\n"
          ]
        }
      ]
    },
    {
      "cell_type": "markdown",
      "source": [
        "# Evaluate the Model on the Test Set"
      ],
      "metadata": {
        "id": "ufoOWQUkfh8b"
      }
    },
    {
      "cell_type": "markdown",
      "source": [
        "### Compute test loss, test accuracy and generate confusion matrix and classification report."
      ],
      "metadata": {
        "id": "LMuTNcLZ8ueq"
      }
    },
    {
      "cell_type": "code",
      "source": [
        "def evaluate(model, dataloader, criterion, device):\n",
        "    model.eval()\n",
        "    running_loss = 0.0\n",
        "    all_labels, all_preds = [], []\n",
        "    with torch.no_grad():\n",
        "        for images, labels in dataloader:\n",
        "            images, labels = images.to(device), labels.to(device)\n",
        "            outputs = model(images)\n",
        "            loss = criterion(outputs, labels)\n",
        "            running_loss += loss.item()\n",
        "            _, preds = torch.max(outputs, 1)\n",
        "            all_labels.extend(labels.cpu().numpy())\n",
        "            all_preds.extend(preds.cpu().numpy())\n",
        "    avg_loss = running_loss / len(dataloader)\n",
        "    accuracy = np.mean(np.array(all_labels) == np.array(all_preds))\n",
        "    return avg_loss, accuracy, all_labels, all_preds\n",
        "\n",
        "criterion = nn.CrossEntropyLoss()\n",
        "test_loss, test_accuracy, test_labels, test_preds = evaluate(model, test_loader, criterion, device)\n",
        "print(f\"Test Loss: {test_loss:.4f}, Test Accuracy: {test_accuracy*100:.2f}%\")"
      ],
      "metadata": {
        "id": "DZrQtBs0fb_Z",
        "colab": {
          "base_uri": "https://localhost:8080/"
        },
        "outputId": "f5928354-208a-49c6-aefc-f9475973ef5a"
      },
      "execution_count": 15,
      "outputs": [
        {
          "output_type": "stream",
          "name": "stdout",
          "text": [
            "Test Loss: 5.4585, Test Accuracy: 23.60%\n"
          ]
        }
      ]
    },
    {
      "cell_type": "markdown",
      "source": [
        "# Confusion Matrix"
      ],
      "metadata": {
        "id": "5NjM67mRku-f"
      }
    },
    {
      "cell_type": "code",
      "source": [
        "cm = confusion_matrix(test_labels, test_preds)\n",
        "plt.figure(figsize=(6, 5))\n",
        "sns.heatmap(cm, annot=True, fmt=\"d\", cmap=\"Blues\", xticklabels=[\"Few\", \"Medium\", \"Many\"], yticklabels=[\"Few\", \"Medium\", \"Many\"])\n",
        "plt.xlabel(\"Predicted\")\n",
        "plt.ylabel(\"True\")\n",
        "plt.title(\"Confusion Matrix on Test Data\")\n",
        "plt.show()\n",
        "\n",
        "print(\"Classification Report:\")\n",
        "print(classification_report(test_labels, test_preds, target_names=[\"Few\", \"Medium\", \"Many\"]))"
      ],
      "metadata": {
        "colab": {
          "base_uri": "https://localhost:8080/",
          "height": 802
        },
        "id": "AUVsd0mykxf6",
        "outputId": "11b56ffc-6293-4c0b-cd66-22afd5e104ef"
      },
      "execution_count": 16,
      "outputs": [
        {
          "output_type": "display_data",
          "data": {
            "text/plain": [
              "<Figure size 600x500 with 2 Axes>"
            ],
            "image/png": "[encoded data removed]"
          },
          "metadata": {}
        },
        {
          "output_type": "stream",
          "name": "stdout",
          "text": [
            "Classification Report:\n",
            "              precision    recall  f1-score   support\n",
            "\n",
            "         Few       0.23      1.00      0.38       141\n",
            "      Medium       0.26      0.14      0.18       261\n",
            "        Many       0.00      0.00      0.00       348\n",
            "\n",
            "    accuracy                           0.24       750\n",
            "   macro avg       0.16      0.38      0.19       750\n",
            "weighted avg       0.13      0.24      0.13       750\n",
            "\n"
          ]
        },
        {
          "output_type": "stream",
          "name": "stderr",
          "text": [
            "/usr/local/lib/python3.11/dist-packages/sklearn/metrics/_classification.py:1565: UndefinedMetricWarning: Precision is ill-defined and being set to 0.0 in labels with no predicted samples. Use `zero_division` parameter to control this behavior.\n",
            "  _warn_prf(average, modifier, f\"{metric.capitalize()} is\", len(result))\n",
            "/usr/local/lib/python3.11/dist-packages/sklearn/metrics/_classification.py:1565: UndefinedMetricWarning: Precision is ill-defined and being set to 0.0 in labels with no predicted samples. Use `zero_division` parameter to control this behavior.\n",
            "  _warn_prf(average, modifier, f\"{metric.capitalize()} is\", len(result))\n",
            "/usr/local/lib/python3.11/dist-packages/sklearn/metrics/_classification.py:1565: UndefinedMetricWarning: Precision is ill-defined and being set to 0.0 in labels with no predicted samples. Use `zero_division` parameter to control this behavior.\n",
            "  _warn_prf(average, modifier, f\"{metric.capitalize()} is\", len(result))\n"
          ]
        }
      ]
    },
    {
      "cell_type": "markdown",
      "source": [
        "# Visualize Test Images with Predictions"
      ],
      "metadata": {
        "id": "39C9Wv0AYyUw"
      }
    },
    {
      "cell_type": "code",
      "source": [
        "model.eval()\n",
        "images, labels = next(iter(test_loader))\n",
        "images, labels = images.to(device), labels.to(device)\n",
        "\n",
        "# Get model predictions\n",
        "with torch.no_grad():\n",
        "    outputs = model(images)\n",
        "    _, predicted = torch.max(outputs, 1)\n",
        "\n",
        "# Map numeric labels to class names\n",
        "label_names = {0: \"Few\", 1: \"Medium\", 2: \"Many\"}\n",
        "\n",
        "# Plot images with predictions\n",
        "plt.figure(figsize=(12, 6))\n",
        "for i in range(10):  # Show 10 sample test images\n",
        "    plt.subplot(2, 5, i + 1)\n",
        "    plt.imshow(images[i].cpu().squeeze(), cmap=\"gray\")\n",
        "    true_label = label_names[labels[i].item()]\n",
        "    pred_label = label_names[predicted[i].item()]\n",
        "    plt.title(f\"True: {true_label}\\nPred: {pred_label}\", fontsize=10, color=\"green\" if true_label == pred_label else \"red\")\n",
        "    plt.axis(\"off\")\n",
        "\n",
        "plt.tight_layout()\n",
        "plt.show()"
      ],
      "metadata": {
        "colab": {
          "base_uri": "https://localhost:8080/",
          "height": 574
        },
        "id": "6CGP0hcxY1zQ",
        "outputId": "e7033f5a-2892-4569-bc3c-601dd2de6692"
      },
      "execution_count": 17,
      "outputs": [
        {
          "output_type": "display_data",
          "data": {
            "text/plain": [
              "<Figure size 1200x600 with 10 Axes>"
            ],
            "image/png": "[encoded data removed]"
          },
          "metadata": {}
        }
      ]
    },
    {
      "cell_type": "markdown",
      "source": [
        "# Save Experiment Results"
      ],
      "metadata": {
        "id": "2fbnFDjr_d3U"
      }
    },
    {
      "cell_type": "code",
      "source": [
        "results_dict = {\n",
        "    \"test_loss\": [test_loss,],\n",
        "    \"test_accuracy\": [test_accuracy]\n",
        "}\n",
        "pd.DataFrame(results_dict).to_csv(\"test_results_run.csv\", index=False)\n",
        "print(\"Test results saved as 'test_results_run.csv'.\")"
      ],
      "metadata": {
        "colab": {
          "base_uri": "https://localhost:8080/"
        },
        "id": "2QMDfv1_gwgC",
        "outputId": "df3b2edc-0f30-40a9-96d6-e7ec4c9e5fd2"
      },
      "execution_count": 18,
      "outputs": [
        {
          "output_type": "stream",
          "name": "stdout",
          "text": [
            "Test results saved as 'test_results_run.csv'.\n"
          ]
        }
      ]
    },
    {
      "cell_type": "code",
      "source": [],
      "metadata": {
        "id": "mt4vhIUZ0JYl"
      },
      "execution_count": null,
      "outputs": []
    }
  ]
}