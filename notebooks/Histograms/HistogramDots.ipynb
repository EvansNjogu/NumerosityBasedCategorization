{
  "cells": [
    {
      "cell_type": "markdown",
      "metadata": {
        "id": "GgFQc9kMacKs"
      },
      "source": [
        "# Pixel Ratio Analysis Notebook: Histogram of White Pixel Ratios by Label\n",
        "\n",
        "**Objective:**  \n",
        "Analyze the white pixel distribution in the Dot and Silhouette datasets to understand whether pixel ratio is a strong indicator of numerosity. This helps assess if the networks could be relying on low-level pixel statistics rather than abstract quantity concepts.\n",
        "\n",
        "- Load the pre-saved Dot and Silhouette datasets from .pt files.\n",
        "\n",
        "- Compute the white pixel ratio (number of white pixels / total pixels) for each image.\n",
        "\n",
        "- Group pixel ratios by ground truth label (Few, Medium, Many).\n",
        "\n",
        "- Plot histograms showing pixel ratio distributions for each label class.\n",
        "\n",
        "**Note:**  \n",
        "Make sure that the files **`train_dataset.pt`,** **`val_dataset.pt`**, **`test_dataset.pt`** and **`final_numerosity_model.pt`** are in your working directory.\n",
        "\n"
      ]
    },
    {
      "cell_type": "markdown",
      "metadata": {
        "id": "Ju9jafsD67wq"
      },
      "source": [
        "# Environment Setup and Seed Setting"
      ]
    },
    {
      "cell_type": "code",
      "execution_count": 1,
      "metadata": {
        "colab": {
          "base_uri": "https://localhost:8080/"
        },
        "id": "_Qnq4xhO7GrX",
        "outputId": "3a755965-eb25-4fc7-c689-e89ff23dd71e"
      },
      "outputs": [
        {
          "output_type": "stream",
          "name": "stdout",
          "text": [
            "Random seed set to 42 for reproducibility.\n"
          ]
        }
      ],
      "source": [
        "import random\n",
        "import numpy as np\n",
        "import torch\n",
        "\n",
        "def set_seed(seed=42):\n",
        "    random.seed(seed)\n",
        "    np.random.seed(seed)\n",
        "    torch.manual_seed(seed)\n",
        "    if torch.cuda.is_available():\n",
        "        torch.cuda.manual_seed_all(seed)\n",
        "    torch.backends.cudnn.deterministic = True\n",
        "    torch.backends.cudnn.benchmark = False\n",
        "\n",
        "set_seed(42)\n",
        "print(\"Random seed set to 42 for reproducibility.\")"
      ]
    },
    {
      "cell_type": "code",
      "execution_count": 2,
      "metadata": {
        "id": "GKE541Mx7UwY"
      },
      "outputs": [],
      "source": [
        "import torch.nn as nn\n",
        "import torch.optim as optim\n",
        "from torch.utils.data import DataLoader\n",
        "import matplotlib.pyplot as plt\n",
        "import pandas as pd\n",
        "import cv2\n",
        "from sklearn.metrics import confusion_matrix, classification_report\n",
        "import seaborn as sns"
      ]
    },
    {
      "cell_type": "code",
      "execution_count": 3,
      "metadata": {
        "colab": {
          "base_uri": "https://localhost:8080/"
        },
        "id": "1DHzGwB_7Vij",
        "outputId": "2fe00084-4e99-4ea9-e2d6-cfe3b91d2f41"
      },
      "outputs": [
        {
          "output_type": "stream",
          "name": "stdout",
          "text": [
            "Using device: NVIDIA L4\n"
          ]
        }
      ],
      "source": [
        "device = torch.device(\"cuda\" if torch.cuda.is_available() else \"cpu\")\n",
        "print(f\"Using device: {torch.cuda.get_device_name(0) if torch.cuda.is_available() else 'CPU'}\")"
      ]
    },
    {
      "cell_type": "markdown",
      "metadata": {
        "id": "K3_haZBdbCQ9"
      },
      "source": [
        "# Load Saved Datasets"
      ]
    },
    {
      "cell_type": "code",
      "execution_count": 4,
      "metadata": {
        "id": "_cCSugYVesQ2"
      },
      "outputs": [],
      "source": [
        "from torch.utils.data import Dataset\n",
        "\n",
        "class DotPatternDataset(Dataset):\n",
        "    def __init__(self, num_samples=5000, image_size=128, categories=(5, 15)):\n",
        "        self.num_samples = num_samples\n",
        "        self.image_size = image_size\n",
        "        self.categories = categories\n",
        "        self.data, self.labels = self.generate_dataset()\n",
        "\n",
        "    def generate_dataset(self):\n",
        "        data = []\n",
        "        labels = []\n",
        "        for _ in range(self.num_samples):\n",
        "            img, label = self.generate_image()\n",
        "            data.append(img)\n",
        "            labels.append(label)\n",
        "        return torch.stack(data), torch.tensor(labels, dtype=torch.long)\n",
        "\n",
        "    def generate_image(self):\n",
        "        img = np.zeros((self.image_size, self.image_size), dtype=np.float32)\n",
        "        num_dots = random.randint(1, 30)\n",
        "        for _ in range(num_dots):\n",
        "            x = random.randint(5, self.image_size - 5)\n",
        "            y = random.randint(5, self.image_size - 5)\n",
        "            size = random.randint(3, 12)\n",
        "            img = cv2.circle(img, (x, y), size, (255,), -1)\n",
        "        img = torch.tensor(img).unsqueeze(0) / 255.0\n",
        "        label = self.categorize(num_dots)\n",
        "        return img, label\n",
        "\n",
        "    def categorize(self, num_dots):\n",
        "        if num_dots <= self.categories[0]:\n",
        "            return 0  # Few\n",
        "        elif num_dots <= self.categories[1]:\n",
        "            return 1  # Medium\n",
        "        else:\n",
        "            return 2  # Many\n",
        "\n",
        "    def __len__(self):\n",
        "        return len(self.data)\n",
        "\n",
        "    def __getitem__(self, idx):\n",
        "        return self.data[idx], self.labels[idx]"
      ]
    },
    {
      "cell_type": "code",
      "execution_count": 5,
      "metadata": {
        "colab": {
          "base_uri": "https://localhost:8080/"
        },
        "id": "1k23ByHTa0__",
        "outputId": "53c0abd7-e5f9-43e1-c64a-c72d2acae1ce"
      },
      "outputs": [
        {
          "output_type": "stream",
          "name": "stdout",
          "text": [
            "Train Dataset Size: 3500\n",
            "Validation Dataset Size: 750\n",
            "Test Dataset Size: 750\n"
          ]
        }
      ],
      "source": [
        "import warnings\n",
        "warnings.filterwarnings(\"ignore\", message=\"You are using `torch.load` with `weights_only=False`\")\n",
        "\n",
        "from torch.utils.data.dataset import Subset\n",
        "import torch.serialization\n",
        "\n",
        "torch.serialization.add_safe_globals([Subset])\n",
        "\n",
        "# Load the saved datasets (train, validation, test)\n",
        "train_dataset = torch.load(\"train_dataset.pt\", weights_only=False)\n",
        "val_dataset = torch.load(\"val_dataset.pt\", weights_only=False)\n",
        "test_dataset = torch.load(\"test_dataset.pt\", weights_only=False)\n",
        "\n",
        "print(f\"Train Dataset Size: {len(train_dataset)}\")\n",
        "print(f\"Validation Dataset Size: {len(val_dataset)}\")\n",
        "print(f\"Test Dataset Size: {len(test_dataset)}\")\n",
        "\n",
        "# Create DataLoaders\n",
        "batch_size = 32  # default value; can be tuned later\n",
        "train_loader = DataLoader(train_dataset, batch_size=batch_size, shuffle=True)\n",
        "val_loader = DataLoader(val_dataset, batch_size=batch_size, shuffle=False)\n",
        "test_loader = DataLoader(test_dataset, batch_size=batch_size, shuffle=False)"
      ]
    },
    {
      "cell_type": "markdown",
      "metadata": {
        "id": "QgP9YmfjbiCy"
      },
      "source": [
        "# Histogram generation"
      ]
    },
    {
      "cell_type": "code",
      "execution_count": 7,
      "metadata": {
        "id": "eVDjHDHWbkrq",
        "colab": {
          "base_uri": "https://localhost:8080/",
          "height": 507
        },
        "outputId": "d828c646-6a2e-437d-8820-a38ce8b10bf7"
      },
      "outputs": [
        {
          "output_type": "display_data",
          "data": {
            "text/plain": [
              "<Figure size 1200x500 with 1 Axes>"
            ],
            "image/png": "[encoded data removed]"
          },
          "metadata": {}
        }
      ],
      "source": [
        "import torch\n",
        "import matplotlib.pyplot as plt\n",
        "import seaborn as sns\n",
        "import numpy as np\n",
        "\n",
        "# Load the test dataset\n",
        "test_dataset = torch.load(\"test_dataset.pt\", weights_only=False)\n",
        "\n",
        "# Initialize lists for each label group\n",
        "ratios_few = []\n",
        "ratios_medium = []\n",
        "ratios_many = []\n",
        "\n",
        "# Compute white pixel ratio for each image\n",
        "for img, label in test_dataset:\n",
        "    img_np = img.squeeze().numpy()  # convert tensor to 2D numpy array\n",
        "    white_ratio = np.sum(img_np > 0.5) / img_np.size  # thresholding to handle float values\n",
        "    if label == 0:\n",
        "        ratios_few.append(white_ratio)\n",
        "    elif label == 1:\n",
        "        ratios_medium.append(white_ratio)\n",
        "    elif label == 2:\n",
        "        ratios_many.append(white_ratio)\n",
        "\n",
        "# Plotting histograms\n",
        "plt.figure(figsize=(12, 5))\n",
        "sns.histplot(ratios_few, bins=20, kde=False, color='blue', label='Few', stat=\"density\")\n",
        "sns.histplot(ratios_medium, bins=20, kde=False, color='green', label='Medium', stat=\"density\")\n",
        "sns.histplot(ratios_many, bins=20, kde=False, color='red', label='Many', stat=\"density\")\n",
        "\n",
        "plt.title(\"Histogram of White Pixel Ratios (Dot Dataset)\")\n",
        "plt.xlabel(\"White Pixel Ratio\")\n",
        "plt.ylabel(\"Density\")\n",
        "plt.legend()\n",
        "plt.grid(True)\n",
        "plt.tight_layout()\n",
        "plt.show()"
      ]
    },
    {
      "cell_type": "code",
      "source": [],
      "metadata": {
        "id": "gvsvRW4TLmsw"
      },
      "execution_count": null,
      "outputs": []
    }
  ],
  "metadata": {
    "accelerator": "GPU",
    "colab": {
      "gpuType": "L4",
      "machine_shape": "hm",
      "provenance": []
    },
    "kernelspec": {
      "display_name": "Python 3 (ipykernel)",
      "language": "python",
      "name": "python3"
    },
    "language_info": {
      "codemirror_mode": {
        "name": "ipython",
        "version": 3
      },
      "file_extension": ".py",
      "mimetype": "text/x-python",
      "name": "python",
      "nbconvert_exporter": "python",
      "pygments_lexer": "ipython3",
      "version": "3.10.2"
    }
  },
  "nbformat": 4,
  "nbformat_minor": 0
}