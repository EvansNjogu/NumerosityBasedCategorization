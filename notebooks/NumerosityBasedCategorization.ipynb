{
  "nbformat": 4,
  "nbformat_minor": 0,
  "metadata": {
    "colab": {
      "provenance": [],
      "machine_shape": "hm",
      "gpuType": "L4"
    },
    "kernelspec": {
      "name": "python3",
      "display_name": "Python 3"
    },
    "language_info": {
      "name": "python"
    },
    "accelerator": "GPU"
  },
  "cells": [
    {
      "cell_type": "markdown",
      "source": [
        "# Experiment Notebook: Numerosity-Based Categorization\n",
        "**Objective:**  \n",
        "Train a CNN on the synthetic dot dataset (saved as `train_dataset.pt`, `val_dataset.pt`, and `test_dataset.pt`) to classify images into three categories (Few, Medium, Many).  \n",
        "\n",
        "**Goals:**\n",
        "- Run multiple experiments (5+ runs) to account for randomness.\n",
        "- Perform hyperparameter tuning.\n",
        "- Record results in tables and visualize training curves, confusion matrices, and classification reports.\n",
        "- Use a validation set for hyperparameter tuning.\n"
      ],
      "metadata": {
        "id": "GgFQc9kMacKs"
      }
    },
    {
      "cell_type": "markdown",
      "source": [
        "# Import Libraries and Setup Device"
      ],
      "metadata": {
        "id": "_7aI_Y5oaldY"
      }
    },
    {
      "cell_type": "code",
      "execution_count": 6,
      "metadata": {
        "id": "_Shu-2r9aWD6"
      },
      "outputs": [],
      "source": [
        "import torch\n",
        "import torch.nn as nn\n",
        "import torch.optim as optim\n",
        "from torch.utils.data import DataLoader, Dataset\n",
        "import numpy as np\n",
        "import matplotlib.pyplot as plt\n",
        "import pandas as pd\n",
        "import random\n",
        "import cv2\n",
        "from sklearn.metrics import confusion_matrix, classification_report\n",
        "import seaborn as sns"
      ]
    },
    {
      "cell_type": "code",
      "source": [
        "device = torch.device(\"cuda\" if torch.cuda.is_available() else \"cpu\")\n",
        "print(f\"Using device: {torch.cuda.get_device_name(0) if torch.cuda.is_available() else 'CPU'}\")"
      ],
      "metadata": {
        "colab": {
          "base_uri": "https://localhost:8080/"
        },
        "id": "tiGSDyfMatvl",
        "outputId": "0add62cc-a2d2-40ce-e3f9-12375a604ed7"
      },
      "execution_count": 2,
      "outputs": [
        {
          "output_type": "stream",
          "name": "stdout",
          "text": [
            "Using device: NVIDIA L4\n"
          ]
        }
      ]
    },
    {
      "cell_type": "markdown",
      "source": [
        "# Load Saved Datasets"
      ],
      "metadata": {
        "id": "K3_haZBdbCQ9"
      }
    },
    {
      "cell_type": "code",
      "source": [
        "class DotPatternDataset(Dataset):\n",
        "    def __init__(self, num_samples=5000, image_size=128, categories=(5, 15)):\n",
        "        self.num_samples = num_samples\n",
        "        self.image_size = image_size\n",
        "        self.categories = categories\n",
        "        self.data, self.labels = self.generate_dataset()\n",
        "\n",
        "    def generate_dataset(self):\n",
        "        data = []\n",
        "        labels = []\n",
        "        for _ in range(self.num_samples):\n",
        "            img, label = self.generate_image()\n",
        "            data.append(img)\n",
        "            labels.append(label)\n",
        "        return torch.stack(data), torch.tensor(labels, dtype=torch.long)\n",
        "\n",
        "    def generate_image(self):\n",
        "        img = np.zeros((self.image_size, self.image_size), dtype=np.float32)\n",
        "        num_dots = random.randint(1, 30)\n",
        "        for _ in range(num_dots):\n",
        "            x = random.randint(5, self.image_size - 5)\n",
        "            y = random.randint(5, self.image_size - 5)\n",
        "            size = random.randint(3, 12)\n",
        "            img = cv2.circle(img, (x, y), size, (255,), -1)\n",
        "        img = torch.tensor(img).unsqueeze(0) / 255.0\n",
        "        label = self.categorize(num_dots)\n",
        "        return img, label\n",
        "\n",
        "    def categorize(self, num_dots):\n",
        "        if num_dots <= self.categories[0]:\n",
        "            return 0  # Few\n",
        "        elif num_dots <= self.categories[1]:\n",
        "            return 1  # Medium\n",
        "        else:\n",
        "            return 2  # Many\n",
        "\n",
        "    def __len__(self):\n",
        "        return len(self.data)\n",
        "\n",
        "    def __getitem__(self, idx):\n",
        "        return self.data[idx], self.labels[idx]"
      ],
      "metadata": {
        "id": "_cCSugYVesQ2"
      },
      "execution_count": 7,
      "outputs": []
    },
    {
      "cell_type": "code",
      "source": [
        "# Load the saved datasets (train, validation, test)\n",
        "train_dataset = torch.load(\"train_dataset.pt\")\n",
        "val_dataset = torch.load(\"val_dataset.pt\")\n",
        "test_dataset = torch.load(\"test_dataset.pt\")\n",
        "\n",
        "print(f\"Train Dataset Size: {len(train_dataset)}\")\n",
        "print(f\"Validation Dataset Size: {len(val_dataset)}\")\n",
        "print(f\"Test Dataset Size: {len(test_dataset)}\")\n",
        "\n",
        "# Create DataLoaders\n",
        "batch_size = 32  # default value; can be tuned later\n",
        "train_loader = DataLoader(train_dataset, batch_size=batch_size, shuffle=True)\n",
        "val_loader = DataLoader(val_dataset, batch_size=batch_size, shuffle=False)\n",
        "test_loader = DataLoader(test_dataset, batch_size=batch_size, shuffle=False)"
      ],
      "metadata": {
        "colab": {
          "base_uri": "https://localhost:8080/"
        },
        "id": "1k23ByHTa0__",
        "outputId": "6bb4206c-be59-4556-aca2-71388858740b"
      },
      "execution_count": 8,
      "outputs": [
        {
          "output_type": "stream",
          "name": "stderr",
          "text": [
            "<ipython-input-8-80e23487e463>:2: FutureWarning: You are using `torch.load` with `weights_only=False` (the current default value), which uses the default pickle module implicitly. It is possible to construct malicious pickle data which will execute arbitrary code during unpickling (See https://github.com/pytorch/pytorch/blob/main/SECURITY.md#untrusted-models for more details). In a future release, the default value for `weights_only` will be flipped to `True`. This limits the functions that could be executed during unpickling. Arbitrary objects will no longer be allowed to be loaded via this mode unless they are explicitly allowlisted by the user via `torch.serialization.add_safe_globals`. We recommend you start setting `weights_only=True` for any use case where you don't have full control of the loaded file. Please open an issue on GitHub for any issues related to this experimental feature.\n",
            "  train_dataset = torch.load(\"train_dataset.pt\")\n",
            "<ipython-input-8-80e23487e463>:3: FutureWarning: You are using `torch.load` with `weights_only=False` (the current default value), which uses the default pickle module implicitly. It is possible to construct malicious pickle data which will execute arbitrary code during unpickling (See https://github.com/pytorch/pytorch/blob/main/SECURITY.md#untrusted-models for more details). In a future release, the default value for `weights_only` will be flipped to `True`. This limits the functions that could be executed during unpickling. Arbitrary objects will no longer be allowed to be loaded via this mode unless they are explicitly allowlisted by the user via `torch.serialization.add_safe_globals`. We recommend you start setting `weights_only=True` for any use case where you don't have full control of the loaded file. Please open an issue on GitHub for any issues related to this experimental feature.\n",
            "  val_dataset = torch.load(\"val_dataset.pt\")\n",
            "<ipython-input-8-80e23487e463>:4: FutureWarning: You are using `torch.load` with `weights_only=False` (the current default value), which uses the default pickle module implicitly. It is possible to construct malicious pickle data which will execute arbitrary code during unpickling (See https://github.com/pytorch/pytorch/blob/main/SECURITY.md#untrusted-models for more details). In a future release, the default value for `weights_only` will be flipped to `True`. This limits the functions that could be executed during unpickling. Arbitrary objects will no longer be allowed to be loaded via this mode unless they are explicitly allowlisted by the user via `torch.serialization.add_safe_globals`. We recommend you start setting `weights_only=True` for any use case where you don't have full control of the loaded file. Please open an issue on GitHub for any issues related to this experimental feature.\n",
            "  test_dataset = torch.load(\"test_dataset.pt\")\n"
          ]
        },
        {
          "output_type": "stream",
          "name": "stdout",
          "text": [
            "Train Dataset Size: 3500\n",
            "Validation Dataset Size: 750\n",
            "Test Dataset Size: 750\n"
          ]
        }
      ]
    },
    {
      "cell_type": "markdown",
      "source": [
        "# Define the Model Architecture"
      ],
      "metadata": {
        "id": "QgP9YmfjbiCy"
      }
    },
    {
      "cell_type": "code",
      "source": [
        "class ResidualBlock(nn.Module):\n",
        "    def __init__(self, in_channels, out_channels, stride=1):\n",
        "        super(ResidualBlock, self).__init__()\n",
        "        self.conv1 = nn.Conv2d(in_channels, out_channels, kernel_size=3, stride=stride, padding=1)\n",
        "        self.bn1 = nn.BatchNorm2d(out_channels)\n",
        "        self.relu = nn.ReLU(inplace=True)\n",
        "        self.conv2 = nn.Conv2d(out_channels, out_channels, kernel_size=3, padding=1)\n",
        "        self.bn2 = nn.BatchNorm2d(out_channels)\n",
        "        self.shortcut = nn.Sequential()\n",
        "        if stride != 1 or in_channels != out_channels:\n",
        "            self.shortcut = nn.Sequential(\n",
        "                nn.Conv2d(in_channels, out_channels, kernel_size=1, stride=stride),\n",
        "                nn.BatchNorm2d(out_channels)\n",
        "            )\n",
        "\n",
        "    def forward(self, x):\n",
        "        out = self.relu(self.bn1(self.conv1(x)))\n",
        "        out = self.bn2(self.conv2(out))\n",
        "        out += self.shortcut(x)\n",
        "        return self.relu(out)\n",
        "\n",
        "class NumerosityCNN(nn.Module):\n",
        "    def __init__(self):\n",
        "        super(NumerosityCNN, self).__init__()\n",
        "        self.layer1 = nn.Sequential(\n",
        "            ResidualBlock(1, 32),\n",
        "            nn.MaxPool2d(2)\n",
        "        )\n",
        "        self.layer2 = nn.Sequential(\n",
        "            ResidualBlock(32, 64),\n",
        "            nn.MaxPool2d(2)\n",
        "        )\n",
        "        self.layer3 = nn.Sequential(\n",
        "            ResidualBlock(64, 128),\n",
        "            nn.MaxPool2d(2)\n",
        "        )\n",
        "        # Input size 128x128 becomes 16x16 after 3 rounds of 2x2 pooling.\n",
        "        self.fc1 = nn.Linear(128 * 16 * 16, 128)\n",
        "        self.fc2 = nn.Linear(128, 3)  # Three classes: Few, Medium, Many\n",
        "\n",
        "    def forward(self, x):\n",
        "        out = self.layer1(x)\n",
        "        out = self.layer2(out)\n",
        "        out = self.layer3(out)\n",
        "        out = out.view(out.size(0), -1)  # Flatten\n",
        "        out = torch.relu(self.fc1(out))\n",
        "        return self.fc2(out)"
      ],
      "metadata": {
        "id": "eVDjHDHWbkrq"
      },
      "execution_count": 9,
      "outputs": []
    },
    {
      "cell_type": "markdown",
      "source": [
        "# Training and Evaluation Functions"
      ],
      "metadata": {
        "id": "ufoOWQUkfh8b"
      }
    },
    {
      "cell_type": "code",
      "source": [
        "def train_one_epoch(model, dataloader, criterion, optimizer, device):\n",
        "    model.train()\n",
        "    running_loss = 0.0\n",
        "    for images, labels in dataloader:\n",
        "        images, labels = images.to(device), labels.to(device)\n",
        "        optimizer.zero_grad()\n",
        "        outputs = model(images)\n",
        "        loss = criterion(outputs, labels)\n",
        "        loss.backward()\n",
        "        optimizer.step()\n",
        "        running_loss += loss.item()\n",
        "    return running_loss / len(dataloader)\n",
        "\n",
        "def evaluate(model, dataloader, criterion, device):\n",
        "    model.eval()\n",
        "    running_loss = 0.0\n",
        "    all_labels, all_preds = [], []\n",
        "    with torch.no_grad():\n",
        "        for images, labels in dataloader:\n",
        "            images, labels = images.to(device), labels.to(device)\n",
        "            outputs = model(images)\n",
        "            loss = criterion(outputs, labels)\n",
        "            running_loss += loss.item()\n",
        "            _, preds = torch.max(outputs, 1)\n",
        "            all_labels.extend(labels.cpu().numpy())\n",
        "            all_preds.extend(preds.cpu().numpy())\n",
        "    avg_loss = running_loss / len(dataloader)\n",
        "    accuracy = np.mean(np.array(all_labels) == np.array(all_preds))\n",
        "    return avg_loss, accuracy, all_labels, all_preds\n",
        "\n",
        "def run_experiment(num_epochs=20, learning_rate=0.001, batch_size=32, early_stop_patience=3):\n",
        "    # Create DataLoaders for the current run (can vary batch_size)\n",
        "    train_loader = DataLoader(train_dataset, batch_size=batch_size, shuffle=True)\n",
        "    val_loader = DataLoader(val_dataset, batch_size=batch_size, shuffle=False)\n",
        "\n",
        "    # Initialize model, optimizer, and loss function\n",
        "    model = NumerosityCNN().to(device)\n",
        "    optimizer = optim.Adam(model.parameters(), lr=learning_rate)\n",
        "    criterion = nn.CrossEntropyLoss()\n",
        "\n",
        "    # To store the training history\n",
        "    train_losses, val_losses, val_accuracies = [], [], []\n",
        "    best_val_loss = float('inf')\n",
        "    patience_counter = 0\n",
        "    best_model_state = None\n",
        "\n",
        "    for epoch in range(num_epochs):\n",
        "        train_loss = train_one_epoch(model, train_loader, criterion, optimizer, device)\n",
        "        val_loss, val_accuracy, _, _ = evaluate(model, val_loader, criterion, device)\n",
        "        train_losses.append(train_loss)\n",
        "        val_losses.append(val_loss)\n",
        "        val_accuracies.append(val_accuracy)\n",
        "\n",
        "        print(f\"Epoch [{epoch+1}/{num_epochs}], Train Loss: {train_loss:.4f}, Val Loss: {val_loss:.4f}, Val Acc: {val_accuracy*100:.2f}%\")\n",
        "\n",
        "        # Early stopping check based on validation loss\n",
        "        if val_loss < best_val_loss:\n",
        "            best_val_loss = val_loss\n",
        "            patience_counter = 0\n",
        "            best_model_state = model.state_dict()\n",
        "        else:\n",
        "            patience_counter += 1\n",
        "            if patience_counter >= early_stop_patience:\n",
        "                print(\"Early stopping triggered.\")\n",
        "                break\n",
        "\n",
        "    # Load the best model state before returning\n",
        "    if best_model_state is not None:\n",
        "        model.load_state_dict(best_model_state)\n",
        "\n",
        "    return model, train_losses, val_losses, val_accuracies"
      ],
      "metadata": {
        "id": "DZrQtBs0fb_Z"
      },
      "execution_count": 10,
      "outputs": []
    },
    {
      "cell_type": "markdown",
      "source": [
        "# Running Multiple runs"
      ],
      "metadata": {
        "id": "07rHz4CPfsWE"
      }
    },
    {
      "cell_type": "code",
      "source": [
        "num_runs = 5\n",
        "experiment_results = []\n",
        "\n",
        "for run in range(num_runs):\n",
        "    print(f\"\\n--- Starting Experiment Run {run+1}/{num_runs} ---\")\n",
        "    model, train_losses, val_losses, val_accuracies = run_experiment(num_epochs=20, learning_rate=0.001, batch_size=32)\n",
        "    final_val_acc = val_accuracies[-1]\n",
        "    final_val_loss = val_losses[-1]\n",
        "    experiment_results.append({\"Run\": run+1, \"Final Val Loss\": final_val_loss, \"Final Val Accuracy\": final_val_acc})\n",
        "\n",
        "# Create a DataFrame to display results\n",
        "results_df = pd.DataFrame(experiment_results)\n",
        "print(\"\\nExperiment Run Results:\")\n",
        "print(results_df)"
      ],
      "metadata": {
        "colab": {
          "base_uri": "https://localhost:8080/"
        },
        "id": "VnD6kYtSfpTf",
        "outputId": "4e122252-33fe-450e-869a-aa1646b23770"
      },
      "execution_count": 11,
      "outputs": [
        {
          "output_type": "stream",
          "name": "stdout",
          "text": [
            "\n",
            "--- Starting Experiment Run 1/5 ---\n",
            "Epoch [1/20], Train Loss: 1.0234, Val Loss: 0.3965, Val Acc: 84.27%\n",
            "Epoch [2/20], Train Loss: 0.2287, Val Loss: 0.2136, Val Acc: 90.80%\n",
            "Epoch [3/20], Train Loss: 0.1690, Val Loss: 0.3187, Val Acc: 87.47%\n",
            "Epoch [4/20], Train Loss: 0.1537, Val Loss: 0.1724, Val Acc: 91.87%\n",
            "Epoch [5/20], Train Loss: 0.1442, Val Loss: 0.1840, Val Acc: 91.73%\n",
            "Epoch [6/20], Train Loss: 0.0995, Val Loss: 0.2033, Val Acc: 91.33%\n",
            "Epoch [7/20], Train Loss: 0.0641, Val Loss: 0.2066, Val Acc: 92.53%\n",
            "Early stopping triggered.\n",
            "\n",
            "--- Starting Experiment Run 2/5 ---\n",
            "Epoch [1/20], Train Loss: 0.7390, Val Loss: 0.3581, Val Acc: 84.80%\n",
            "Epoch [2/20], Train Loss: 0.2390, Val Loss: 0.1775, Val Acc: 92.13%\n",
            "Epoch [3/20], Train Loss: 0.2115, Val Loss: 0.1687, Val Acc: 93.20%\n",
            "Epoch [4/20], Train Loss: 0.1434, Val Loss: 0.6191, Val Acc: 81.73%\n",
            "Epoch [5/20], Train Loss: 0.1233, Val Loss: 0.3928, Val Acc: 88.53%\n",
            "Epoch [6/20], Train Loss: 0.1166, Val Loss: 0.2338, Val Acc: 91.07%\n",
            "Early stopping triggered.\n",
            "\n",
            "--- Starting Experiment Run 3/5 ---\n",
            "Epoch [1/20], Train Loss: 1.1732, Val Loss: 0.2009, Val Acc: 92.80%\n",
            "Epoch [2/20], Train Loss: 0.2612, Val Loss: 0.2101, Val Acc: 91.47%\n",
            "Epoch [3/20], Train Loss: 0.1671, Val Loss: 0.1959, Val Acc: 92.67%\n",
            "Epoch [4/20], Train Loss: 0.1469, Val Loss: 0.1988, Val Acc: 92.13%\n",
            "Epoch [5/20], Train Loss: 0.1301, Val Loss: 0.4107, Val Acc: 86.93%\n",
            "Epoch [6/20], Train Loss: 0.1396, Val Loss: 0.1909, Val Acc: 91.20%\n",
            "Epoch [7/20], Train Loss: 0.1067, Val Loss: 0.2167, Val Acc: 91.73%\n",
            "Epoch [8/20], Train Loss: 0.0573, Val Loss: 0.2375, Val Acc: 92.00%\n",
            "Epoch [9/20], Train Loss: 0.0250, Val Loss: 0.2871, Val Acc: 91.60%\n",
            "Early stopping triggered.\n",
            "\n",
            "--- Starting Experiment Run 4/5 ---\n",
            "Epoch [1/20], Train Loss: 0.9435, Val Loss: 0.2095, Val Acc: 91.73%\n",
            "Epoch [2/20], Train Loss: 0.2437, Val Loss: 0.2782, Val Acc: 89.33%\n",
            "Epoch [3/20], Train Loss: 0.1815, Val Loss: 0.1734, Val Acc: 93.07%\n",
            "Epoch [4/20], Train Loss: 0.1578, Val Loss: 0.3340, Val Acc: 87.60%\n",
            "Epoch [5/20], Train Loss: 0.1815, Val Loss: 0.3556, Val Acc: 84.67%\n",
            "Epoch [6/20], Train Loss: 0.0949, Val Loss: 0.1805, Val Acc: 93.07%\n",
            "Early stopping triggered.\n",
            "\n",
            "--- Starting Experiment Run 5/5 ---\n",
            "Epoch [1/20], Train Loss: 1.2433, Val Loss: 0.2534, Val Acc: 89.07%\n",
            "Epoch [2/20], Train Loss: 0.2363, Val Loss: 0.1786, Val Acc: 92.27%\n",
            "Epoch [3/20], Train Loss: 0.1941, Val Loss: 0.2025, Val Acc: 90.93%\n",
            "Epoch [4/20], Train Loss: 0.1746, Val Loss: 0.1922, Val Acc: 91.33%\n",
            "Epoch [5/20], Train Loss: 0.1165, Val Loss: 0.1876, Val Acc: 91.73%\n",
            "Early stopping triggered.\n",
            "\n",
            "Experiment Run Results:\n",
            "   Run  Final Val Loss  Final Val Accuracy\n",
            "0    1        0.206647            0.925333\n",
            "1    2        0.233836            0.910667\n",
            "2    3        0.287095            0.916000\n",
            "3    4        0.180475            0.930667\n",
            "4    5        0.187641            0.917333\n"
          ]
        }
      ]
    },
    {
      "cell_type": "markdown",
      "source": [
        "# Hyperparameter tuning (Grid search test)"
      ],
      "metadata": {
        "id": "ZeXroYYpgK_z"
      }
    },
    {
      "cell_type": "code",
      "source": [
        "hp_results = []\n",
        "learning_rates = [0.001, 0.0005]\n",
        "batch_sizes = [32, 64]\n",
        "\n",
        "for lr in learning_rates:\n",
        "    for bs in batch_sizes:\n",
        "        print(f\"\\n--- Hyperparameters: Learning Rate = {lr}, Batch Size = {bs} ---\")\n",
        "        model, train_losses, val_losses, val_accuracies = run_experiment(num_epochs=20, learning_rate=lr, batch_size=bs)\n",
        "        final_val_acc = val_accuracies[-1]\n",
        "        final_val_loss = val_losses[-1]\n",
        "        hp_results.append({\n",
        "            \"Learning Rate\": lr,\n",
        "            \"Batch Size\": bs,\n",
        "            \"Final Val Loss\": final_val_loss,\n",
        "            \"Final Val Accuracy\": final_val_acc\n",
        "        })\n",
        "\n",
        "hp_results_df = pd.DataFrame(hp_results)\n",
        "print(\"\\nHyperparameter Tuning Results:\")\n",
        "print(hp_results_df)"
      ],
      "metadata": {
        "colab": {
          "base_uri": "https://localhost:8080/"
        },
        "id": "esXPHkWjfx1T",
        "outputId": "06674e91-2872-4ad0-de70-cfa3906e6a77"
      },
      "execution_count": 12,
      "outputs": [
        {
          "output_type": "stream",
          "name": "stdout",
          "text": [
            "\n",
            "--- Hyperparameters: Learning Rate = 0.001, Batch Size = 32 ---\n",
            "Epoch [1/20], Train Loss: 0.8050, Val Loss: 0.3315, Val Acc: 87.07%\n",
            "Epoch [2/20], Train Loss: 0.2555, Val Loss: 0.1985, Val Acc: 91.33%\n",
            "Epoch [3/20], Train Loss: 0.2089, Val Loss: 0.2332, Val Acc: 89.33%\n",
            "Epoch [4/20], Train Loss: 0.1753, Val Loss: 0.1826, Val Acc: 92.40%\n",
            "Epoch [5/20], Train Loss: 0.1340, Val Loss: 0.2061, Val Acc: 90.80%\n",
            "Epoch [6/20], Train Loss: 0.1213, Val Loss: 0.2095, Val Acc: 90.13%\n",
            "Epoch [7/20], Train Loss: 0.0788, Val Loss: 0.2687, Val Acc: 88.93%\n",
            "Early stopping triggered.\n",
            "\n",
            "--- Hyperparameters: Learning Rate = 0.001, Batch Size = 64 ---\n",
            "Epoch [1/20], Train Loss: 2.1884, Val Loss: 0.2588, Val Acc: 90.00%\n",
            "Epoch [2/20], Train Loss: 0.2283, Val Loss: 0.1896, Val Acc: 92.53%\n",
            "Epoch [3/20], Train Loss: 0.1674, Val Loss: 0.1729, Val Acc: 92.53%\n",
            "Epoch [4/20], Train Loss: 0.1747, Val Loss: 0.1696, Val Acc: 93.07%\n",
            "Epoch [5/20], Train Loss: 0.1169, Val Loss: 0.1663, Val Acc: 93.60%\n",
            "Epoch [6/20], Train Loss: 0.1200, Val Loss: 0.2347, Val Acc: 90.27%\n",
            "Epoch [7/20], Train Loss: 0.1650, Val Loss: 0.1850, Val Acc: 92.27%\n",
            "Epoch [8/20], Train Loss: 0.0952, Val Loss: 0.2979, Val Acc: 87.87%\n",
            "Early stopping triggered.\n",
            "\n",
            "--- Hyperparameters: Learning Rate = 0.0005, Batch Size = 32 ---\n",
            "Epoch [1/20], Train Loss: 0.9135, Val Loss: 0.2261, Val Acc: 91.47%\n",
            "Epoch [2/20], Train Loss: 0.2039, Val Loss: 0.2381, Val Acc: 89.60%\n",
            "Epoch [3/20], Train Loss: 0.1809, Val Loss: 0.1849, Val Acc: 92.27%\n",
            "Epoch [4/20], Train Loss: 0.1269, Val Loss: 0.1560, Val Acc: 93.33%\n",
            "Epoch [5/20], Train Loss: 0.1067, Val Loss: 0.2114, Val Acc: 91.87%\n",
            "Epoch [6/20], Train Loss: 0.1031, Val Loss: 0.1702, Val Acc: 92.80%\n",
            "Epoch [7/20], Train Loss: 0.0691, Val Loss: 0.2163, Val Acc: 91.33%\n",
            "Early stopping triggered.\n",
            "\n",
            "--- Hyperparameters: Learning Rate = 0.0005, Batch Size = 64 ---\n",
            "Epoch [1/20], Train Loss: 1.0071, Val Loss: 0.5801, Val Acc: 76.00%\n",
            "Epoch [2/20], Train Loss: 0.2264, Val Loss: 0.1654, Val Acc: 93.20%\n",
            "Epoch [3/20], Train Loss: 0.1771, Val Loss: 0.2057, Val Acc: 91.20%\n",
            "Epoch [4/20], Train Loss: 0.1385, Val Loss: 0.1670, Val Acc: 93.33%\n",
            "Epoch [5/20], Train Loss: 0.1829, Val Loss: 0.2036, Val Acc: 92.40%\n",
            "Early stopping triggered.\n",
            "\n",
            "Hyperparameter Tuning Results:\n",
            "   Learning Rate  Batch Size  Final Val Loss  Final Val Accuracy\n",
            "0         0.0010          32        0.268695            0.889333\n",
            "1         0.0010          64        0.297912            0.878667\n",
            "2         0.0005          32        0.216266            0.913333\n",
            "3         0.0005          64        0.203646            0.924000\n"
          ]
        }
      ]
    },
    {
      "cell_type": "markdown",
      "source": [
        "# Evaluation of Test set & visualization"
      ],
      "metadata": {
        "id": "qWxCoEg2gUdH"
      }
    },
    {
      "cell_type": "code",
      "source": [
        "# Evaluate the best model (or a chosen model) on the test set\n",
        "# For simplicity, we load a model from the last run (you could choose the best among runs)\n",
        "\n",
        "# Load the test DataLoader\n",
        "test_loader = DataLoader(test_dataset, batch_size=32, shuffle=False)\n",
        "criterion = nn.CrossEntropyLoss()\n",
        "\n",
        "# Evaluate the model on test data\n",
        "test_loss, test_accuracy, test_labels, test_preds = evaluate(model, test_loader, criterion, device)\n",
        "print(f\"Test Loss: {test_loss:.4f}, Test Accuracy: {test_accuracy*100:.2f}%\")\n",
        "\n",
        "# ----------------------------\n",
        "# Visualization: Plot Loss and Accuracy Curves for the Last Run\n",
        "# ----------------------------\n",
        "plt.figure(figsize=(12, 5))\n",
        "\n",
        "# Loss curves\n",
        "plt.subplot(1, 2, 1)\n",
        "plt.plot(train_losses, label=\"Train Loss\")\n",
        "plt.plot(val_losses, label=\"Validation Loss\")\n",
        "plt.xlabel(\"Epoch\")\n",
        "plt.ylabel(\"Loss\")\n",
        "plt.title(\"Loss Curves\")\n",
        "plt.legend()\n",
        "\n",
        "# Accuracy curve\n",
        "plt.subplot(1, 2, 2)\n",
        "plt.plot(val_accuracies, label=\"Validation Accuracy\")\n",
        "plt.xlabel(\"Epoch\")\n",
        "plt.ylabel(\"Accuracy\")\n",
        "plt.title(\"Validation Accuracy Curve\")\n",
        "plt.legend()\n",
        "\n",
        "plt.show()\n",
        "\n",
        "# ----------------------------\n",
        "# Confusion Matrix and Classification Report on Test Data\n",
        "# ----------------------------\n",
        "cm = confusion_matrix(test_labels, test_preds)\n",
        "plt.figure(figsize=(6, 5))\n",
        "sns.heatmap(cm, annot=True, fmt=\"d\", cmap=\"Blues\",\n",
        "            xticklabels=[\"Few\", \"Medium\", \"Many\"],\n",
        "            yticklabels=[\"Few\", \"Medium\", \"Many\"])\n",
        "plt.xlabel(\"Predicted\")\n",
        "plt.ylabel(\"True\")\n",
        "plt.title(\"Confusion Matrix on Test Data\")\n",
        "plt.show()\n",
        "\n",
        "print(\"Classification Report:\")\n",
        "print(classification_report(test_labels, test_preds, target_names=[\"Few\", \"Medium\", \"Many\"]))"
      ],
      "metadata": {
        "colab": {
          "base_uri": "https://localhost:8080/",
          "height": 1000
        },
        "id": "PMMRmVIugYD3",
        "outputId": "0f67589f-89ba-44d1-b7cd-05921a9c0fb9"
      },
      "execution_count": 13,
      "outputs": [
        {
          "output_type": "stream",
          "name": "stdout",
          "text": [
            "Test Loss: 0.1998, Test Accuracy: 91.87%\n"
          ]
        },
        {
          "output_type": "display_data",
          "data": {
            "text/plain": [
              "<Figure size 1200x500 with 2 Axes>"
            ],
            "image/png": "[encoded data removed]"
          },
          "metadata": {}
        },
        {
          "output_type": "display_data",
          "data": {
            "text/plain": [
              "<Figure size 600x500 with 2 Axes>"
            ],
            "image/png": "[encoded data removed]"
          },
          "metadata": {}
        },
        {
          "output_type": "stream",
          "name": "stdout",
          "text": [
            "Classification Report:\n",
            "              precision    recall  f1-score   support\n",
            "\n",
            "         Few       0.98      0.88      0.92       112\n",
            "      Medium       0.91      0.85      0.88       260\n",
            "        Many       0.91      0.98      0.94       378\n",
            "\n",
            "    accuracy                           0.92       750\n",
            "   macro avg       0.93      0.90      0.92       750\n",
            "weighted avg       0.92      0.92      0.92       750\n",
            "\n"
          ]
        }
      ]
    },
    {
      "cell_type": "markdown",
      "source": [
        "# Save final model & results"
      ],
      "metadata": {
        "id": "bsIjHkULgujf"
      }
    },
    {
      "cell_type": "code",
      "source": [
        "# Save the final best model from the last run (or choose one from hyperparameter tuning)\n",
        "torch.save(model.state_dict(), \"final_numerosity_model.pth\")\n",
        "print(\"Final model saved as 'final_numerosity_model.pth'.\")\n",
        "\n",
        "# Save experiment results to CSV for reproducibility\n",
        "results_df.to_csv(\"experiment_run_results.csv\", index=False)\n",
        "hp_results_df.to_csv(\"hyperparameter_tuning_results.csv\", index=False)\n",
        "print(\"Experiment results saved as CSV files.\")\n"
      ],
      "metadata": {
        "colab": {
          "base_uri": "https://localhost:8080/"
        },
        "id": "2QMDfv1_gwgC",
        "outputId": "e8d819fb-44ab-4b10-fabb-73b2c46cd761"
      },
      "execution_count": 14,
      "outputs": [
        {
          "output_type": "stream",
          "name": "stdout",
          "text": [
            "Final model saved as 'final_numerosity_model.pth'.\n",
            "Experiment results saved as CSV files.\n"
          ]
        }
      ]
    }
  ]
}