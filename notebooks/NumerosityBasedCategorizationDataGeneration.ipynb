{
  "nbformat": 4,
  "nbformat_minor": 0,
  "metadata": {
    "colab": {
      "provenance": [],
      "machine_shape": "hm",
      "gpuType": "L4"
    },
    "kernelspec": {
      "name": "python3",
      "display_name": "Python 3"
    },
    "language_info": {
      "name": "python"
    },
    "accelerator": "GPU"
  },
  "cells": [
    {
      "cell_type": "markdown",
      "source": [
        "# Environment Setup"
      ],
      "metadata": {
        "id": "aIFXLvad0pT8"
      }
    },
    {
      "cell_type": "code",
      "execution_count": 1,
      "metadata": {
        "id": "BxEspBD30iLz",
        "colab": {
          "base_uri": "https://localhost:8080/"
        },
        "outputId": "ef6070e4-ecf1-4d87-c6d5-713febd77cdc"
      },
      "outputs": [
        {
          "output_type": "stream",
          "name": "stdout",
          "text": [
            "\u001b[2K   \u001b[90m━━━━━━━━━━━━━━━━━━━━━━━━━━━━━━━━━━━━━━━━\u001b[0m \u001b[32m363.4/363.4 MB\u001b[0m \u001b[31m3.3 MB/s\u001b[0m eta \u001b[36m0:00:00\u001b[0m\n",
            "\u001b[2K   \u001b[90m━━━━━━━━━━━━━━━━━━━━━━━━━━━━━━━━━━━━━━━━\u001b[0m \u001b[32m13.8/13.8 MB\u001b[0m \u001b[31m104.3 MB/s\u001b[0m eta \u001b[36m0:00:00\u001b[0m\n",
            "\u001b[2K   \u001b[90m━━━━━━━━━━━━━━━━━━━━━━━━━━━━━━━━━━━━━━━━\u001b[0m \u001b[32m24.6/24.6 MB\u001b[0m \u001b[31m86.9 MB/s\u001b[0m eta \u001b[36m0:00:00\u001b[0m\n",
            "\u001b[2K   \u001b[90m━━━━━━━━━━━━━━━━━━━━━━━━━━━━━━━━━━━━━━━━\u001b[0m \u001b[32m883.7/883.7 kB\u001b[0m \u001b[31m52.9 MB/s\u001b[0m eta \u001b[36m0:00:00\u001b[0m\n",
            "\u001b[2K   \u001b[90m━━━━━━━━━━━━━━━━━━━━━━━━━━━━━━━━━━━━━━━━\u001b[0m \u001b[32m664.8/664.8 MB\u001b[0m \u001b[31m2.1 MB/s\u001b[0m eta \u001b[36m0:00:00\u001b[0m\n",
            "\u001b[2K   \u001b[90m━━━━━━━━━━━━━━━━━━━━━━━━━━━━━━━━━━━━━━━━\u001b[0m \u001b[32m211.5/211.5 MB\u001b[0m \u001b[31m5.0 MB/s\u001b[0m eta \u001b[36m0:00:00\u001b[0m\n",
            "\u001b[2K   \u001b[90m━━━━━━━━━━━━━━━━━━━━━━━━━━━━━━━━━━━━━━━━\u001b[0m \u001b[32m56.3/56.3 MB\u001b[0m \u001b[31m40.0 MB/s\u001b[0m eta \u001b[36m0:00:00\u001b[0m\n",
            "\u001b[2K   \u001b[90m━━━━━━━━━━━━━━━━━━━━━━━━━━━━━━━━━━━━━━━━\u001b[0m \u001b[32m127.9/127.9 MB\u001b[0m \u001b[31m17.5 MB/s\u001b[0m eta \u001b[36m0:00:00\u001b[0m\n",
            "\u001b[2K   \u001b[90m━━━━━━━━━━━━━━━━━━━━━━━━━━━━━━━━━━━━━━━━\u001b[0m \u001b[32m207.5/207.5 MB\u001b[0m \u001b[31m4.5 MB/s\u001b[0m eta \u001b[36m0:00:00\u001b[0m\n",
            "\u001b[2K   \u001b[90m━━━━━━━━━━━━━━━━━━━━━━━━━━━━━━━━━━━━━━━━\u001b[0m \u001b[32m21.1/21.1 MB\u001b[0m \u001b[31m93.8 MB/s\u001b[0m eta \u001b[36m0:00:00\u001b[0m\n",
            "\u001b[?25h"
          ]
        }
      ],
      "source": [
        "!pip install torch torchvision numpy opencv-python matplotlib -q\n",
        "\n",
        "import torch\n",
        "import numpy as np\n",
        "import cv2\n",
        "import random\n",
        "import matplotlib.pyplot as plt\n",
        "from torch.utils.data import Dataset, random_split"
      ]
    },
    {
      "cell_type": "markdown",
      "source": [
        "# Define the Dataset Class"
      ],
      "metadata": {
        "id": "ozuw41dBbzs-"
      }
    },
    {
      "cell_type": "code",
      "source": [
        "label_names = {0: \"Few\", 1: \"Medium\", 2: \"Many\"}"
      ],
      "metadata": {
        "id": "k9vIj8SBVWPs"
      },
      "execution_count": 2,
      "outputs": []
    },
    {
      "cell_type": "code",
      "source": [
        "class DotPatternDataset(Dataset):\n",
        "    def __init__(self, num_samples=5000, image_size=128, categories=(5, 15)):\n",
        "        \"\"\"\n",
        "        Args:\n",
        "            num_samples (int): Number of images to generate.\n",
        "            image_size (int): Height and width of the square images.\n",
        "            categories (tuple): Tuple defining thresholds for categorization.\n",
        "                                * First value: Maximum dot count for \"Few\".\n",
        "                                * Second value: Maximum dot count for \"Medium\".\n",
        "                                Dot counts above the second value are categorized as \"Many\".\n",
        "        \"\"\"\n",
        "        self.num_samples = num_samples\n",
        "        self.image_size = image_size\n",
        "        self.categories = categories\n",
        "        self.data, self.labels = self.generate_dataset()\n",
        "\n",
        "    def generate_dataset(self):\n",
        "        data = []\n",
        "        labels = []\n",
        "        for _ in range(self.num_samples):\n",
        "            img, label = self.generate_image()\n",
        "            data.append(img)\n",
        "            labels.append(label)\n",
        "        # Stack images into a tensor and convert labels to tensor.\n",
        "        return torch.stack(data), torch.tensor(labels, dtype=torch.long)\n",
        "\n",
        "    def generate_image(self):\n",
        "        # Create a blank grayscale image.\n",
        "        img = np.zeros((self.image_size, self.image_size), dtype=np.float32)\n",
        "        # Randomly decide the number of dots (1 to 30).\n",
        "        num_dots = random.randint(1, 30)\n",
        "        # Draw each dot with random position and size.\n",
        "        for _ in range(num_dots):\n",
        "            x = random.randint(5, self.image_size - 5)\n",
        "            y = random.randint(5, self.image_size - 5)\n",
        "            size = random.randint(3, 12)\n",
        "            img = cv2.circle(img, (x, y), size, (255,), -1)\n",
        "        # Convert image to tensor, add a channel dimension, and normalize to [0,1].\n",
        "        img = torch.tensor(img).unsqueeze(0) / 255.0\n",
        "        # Categorize based on dot count.\n",
        "        label = self.categorize(num_dots)\n",
        "        return img, label\n",
        "\n",
        "    def categorize(self, num_dots):\n",
        "        if num_dots <= self.categories[0]:\n",
        "            return 0  # Few\n",
        "        elif num_dots <= self.categories[1]:\n",
        "            return 1  # Medium\n",
        "        else:\n",
        "            return 2  # Many\n",
        "\n",
        "    def __len__(self):\n",
        "        return len(self.data)\n",
        "\n",
        "    def __getitem__(self, idx):\n",
        "        return self.data[idx], self.labels[idx]\n"
      ],
      "metadata": {
        "id": "4pAfEMiYbzDm"
      },
      "execution_count": 3,
      "outputs": []
    },
    {
      "cell_type": "markdown",
      "source": [
        "# Split Dataset into Training & Testing Sets"
      ],
      "metadata": {
        "id": "t2ZHbn3oJ5Di"
      }
    },
    {
      "cell_type": "code",
      "source": [
        "dataset = DotPatternDataset(num_samples=5000, image_size=128)"
      ],
      "metadata": {
        "id": "VLQrIveTWDyj"
      },
      "execution_count": 4,
      "outputs": []
    },
    {
      "cell_type": "code",
      "source": [
        "total_samples = len(dataset)\n",
        "train_size = int(0.7 * total_samples)\n",
        "val_size = int(0.15 * total_samples)\n",
        "test_size = total_samples - train_size - val_size\n",
        "\n",
        "train_dataset, val_dataset, test_dataset = random_split(dataset, [train_size, val_size, test_size])\n",
        "\n",
        "print(f\"Total Samples: {total_samples}\")\n",
        "print(f\"Train Samples: {len(train_dataset)}\")\n",
        "print(f\"Validation Samples: {len(val_dataset)}\")\n",
        "print(f\"Test Samples: {len(test_dataset)}\")"
      ],
      "metadata": {
        "colab": {
          "base_uri": "https://localhost:8080/"
        },
        "id": "c0E4DJreJ8YC",
        "outputId": "941ffaf4-c892-4ee2-f641-248740206c8c"
      },
      "execution_count": 5,
      "outputs": [
        {
          "output_type": "stream",
          "name": "stdout",
          "text": [
            "Total Samples: 5000\n",
            "Train Samples: 3500\n",
            "Validation Samples: 750\n",
            "Test Samples: 750\n"
          ]
        }
      ]
    },
    {
      "cell_type": "markdown",
      "source": [
        "# Save the Datasets for Reproducibilty"
      ],
      "metadata": {
        "id": "1aipB3tt2Ilk"
      }
    },
    {
      "cell_type": "code",
      "source": [
        "torch.save(train_dataset, \"train_dataset.pt\")\n",
        "torch.save(val_dataset, \"val_dataset.pt\")\n",
        "torch.save(test_dataset, \"test_dataset.pt\")\n",
        "\n",
        "print(\"Datasets saved to disk as 'train_dataset.pt', 'val_dataset.pt', and 'test_dataset.pt'.\")"
      ],
      "metadata": {
        "id": "STu4yOhV1fF2",
        "colab": {
          "base_uri": "https://localhost:8080/"
        },
        "outputId": "e9d6af01-2ec2-4256-d0b5-f80e447fd0dd"
      },
      "execution_count": 6,
      "outputs": [
        {
          "output_type": "stream",
          "name": "stdout",
          "text": [
            "Datasets saved to disk as 'train_dataset.pt', 'val_dataset.pt', and 'test_dataset.pt'.\n"
          ]
        }
      ]
    },
    {
      "cell_type": "markdown",
      "source": [
        "# Visualize"
      ],
      "metadata": {
        "id": "Z4KcWjmDV5IA"
      }
    },
    {
      "cell_type": "code",
      "source": [
        "plt.figure(figsize=(12, 4))\n",
        "for i in range(5):\n",
        "    img, label = dataset[i]\n",
        "    plt.subplot(1, 5, i + 1)\n",
        "    plt.imshow(img.squeeze(), cmap='gray')\n",
        "    # Use the label_names dictionary for descriptive names.\n",
        "    plt.title(f'{label_names[label.item()]}')\n",
        "    plt.axis('off')\n",
        "plt.show()"
      ],
      "metadata": {
        "colab": {
          "base_uri": "https://localhost:8080/",
          "height": 219
        },
        "id": "ZbHdy63ZV6ZS",
        "outputId": "7820c529-63ab-40f2-8541-85a53fdf9db1"
      },
      "execution_count": 7,
      "outputs": [
        {
          "output_type": "display_data",
          "data": {
            "text/plain": [
              "<Figure size 1200x400 with 5 Axes>"
            ],
            "image/png": "[encoded data removed]"
          },
          "metadata": {}
        }
      ]
    }
  ]
}